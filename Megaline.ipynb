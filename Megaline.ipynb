{
 "cells": [
  {
   "cell_type": "markdown",
   "metadata": {},
   "source": [
    "----"
   ]
  },
  {
   "cell_type": "markdown",
   "metadata": {},
   "source": [
    "---"
   ]
  },
  {
   "cell_type": "markdown",
   "metadata": {
    "id": "3rYiDeEH0q0f"
   },
   "source": [
    "# ¿Cuál es la mejor tarifa?\n",
    "\n",
    "Trabajas como analista para el operador de telecomunicaciones Megaline. La empresa ofrece a sus clientes dos tarifas de prepago, Surf y Ultimate. El departamento comercial quiere saber cuál de las tarifas genera más ingresos para poder ajustar el presupuesto de publicidad.\n",
    "\n",
    "Vas a realizar un análisis preliminar de las tarifas basado en una selección de clientes relativamente pequeña. Tendrás los datos de 500 clientes de Megaline: quiénes son los clientes, de dónde son, qué tarifa usan, así como la cantidad de llamadas que hicieron y los mensajes de texto que enviaron en 2018. Tu trabajo es analizar el comportamiento de los clientes y determinar qué tarifa de prepago genera más ingresos."
   ]
  },
  {
   "cell_type": "markdown",
   "metadata": {
    "id": "MQi4IPy70q0y"
   },
   "source": [
    "## Inicialización"
   ]
  },
  {
   "cell_type": "code",
   "execution_count": 50,
   "metadata": {
    "id": "MtYIuBxu0q0z"
   },
   "outputs": [],
   "source": [
    "# Cargar todas las librerías\n",
    "from scipy import stats as st\n",
    "import pandas as pd \n",
    "import numpy as np\n",
    "import matplotlib.pyplot as plt\n",
    "import seaborn as sns\n",
    "\n"
   ]
  },
  {
   "cell_type": "markdown",
   "metadata": {
    "id": "4ysWWC5i0q00"
   },
   "source": [
    "## Cargar datos"
   ]
  },
  {
   "cell_type": "code",
   "execution_count": 51,
   "metadata": {
    "id": "CCqPW7rS0q01"
   },
   "outputs": [],
   "source": [
    "# Carga los archivos de datos en diferentes DataFrames\n",
    "\n",
    "calls = pd.read_csv(\"/datasets/megaline_calls.csv\")\n",
    "internet = pd.read_csv(\"/datasets/megaline_internet.csv\")\n",
    "messages = pd.read_csv(\"/datasets/megaline_messages.csv\")\n",
    "plans = pd.read_csv(\"/datasets/megaline_plans.csv\")\n",
    "users = pd.read_csv(\"/datasets/megaline_users.csv\")\n"
   ]
  },
  {
   "cell_type": "markdown",
   "metadata": {
    "id": "69qqoJ3r0q01"
   },
   "source": [
    "## Preparar los datos"
   ]
  },
  {
   "cell_type": "code",
   "execution_count": 52,
   "metadata": {
    "scrolled": true
   },
   "outputs": [
    {
     "name": "stdout",
     "output_type": "stream",
     "text": [
      "<class 'pandas.core.frame.DataFrame'>\n",
      "RangeIndex: 137735 entries, 0 to 137734\n",
      "Data columns (total 4 columns):\n",
      " #   Column     Non-Null Count   Dtype  \n",
      "---  ------     --------------   -----  \n",
      " 0   id         137735 non-null  object \n",
      " 1   user_id    137735 non-null  int64  \n",
      " 2   call_date  137735 non-null  object \n",
      " 3   duration   137735 non-null  float64\n",
      "dtypes: float64(1), int64(1), object(2)\n",
      "memory usage: 4.2+ MB\n"
     ]
    }
   ],
   "source": [
    "calls.info(show_counts=True)"
   ]
  },
  {
   "cell_type": "code",
   "execution_count": 53,
   "metadata": {},
   "outputs": [
    {
     "name": "stdout",
     "output_type": "stream",
     "text": [
      "<class 'pandas.core.frame.DataFrame'>\n",
      "RangeIndex: 104825 entries, 0 to 104824\n",
      "Data columns (total 4 columns):\n",
      " #   Column        Non-Null Count   Dtype  \n",
      "---  ------        --------------   -----  \n",
      " 0   id            104825 non-null  object \n",
      " 1   user_id       104825 non-null  int64  \n",
      " 2   session_date  104825 non-null  object \n",
      " 3   mb_used       104825 non-null  float64\n",
      "dtypes: float64(1), int64(1), object(2)\n",
      "memory usage: 3.2+ MB\n"
     ]
    }
   ],
   "source": [
    "internet.info(show_counts=True)"
   ]
  },
  {
   "cell_type": "code",
   "execution_count": 54,
   "metadata": {},
   "outputs": [
    {
     "name": "stdout",
     "output_type": "stream",
     "text": [
      "<class 'pandas.core.frame.DataFrame'>\n",
      "RangeIndex: 76051 entries, 0 to 76050\n",
      "Data columns (total 3 columns):\n",
      " #   Column        Non-Null Count  Dtype \n",
      "---  ------        --------------  ----- \n",
      " 0   id            76051 non-null  object\n",
      " 1   user_id       76051 non-null  int64 \n",
      " 2   message_date  76051 non-null  object\n",
      "dtypes: int64(1), object(2)\n",
      "memory usage: 1.7+ MB\n"
     ]
    }
   ],
   "source": [
    "messages.info(show_counts=True)"
   ]
  },
  {
   "cell_type": "code",
   "execution_count": 55,
   "metadata": {},
   "outputs": [
    {
     "name": "stdout",
     "output_type": "stream",
     "text": [
      "<class 'pandas.core.frame.DataFrame'>\n",
      "RangeIndex: 2 entries, 0 to 1\n",
      "Data columns (total 8 columns):\n",
      " #   Column                 Non-Null Count  Dtype  \n",
      "---  ------                 --------------  -----  \n",
      " 0   messages_included      2 non-null      int64  \n",
      " 1   mb_per_month_included  2 non-null      int64  \n",
      " 2   minutes_included       2 non-null      int64  \n",
      " 3   usd_monthly_pay        2 non-null      int64  \n",
      " 4   usd_per_gb             2 non-null      int64  \n",
      " 5   usd_per_message        2 non-null      float64\n",
      " 6   usd_per_minute         2 non-null      float64\n",
      " 7   plan_name              2 non-null      object \n",
      "dtypes: float64(2), int64(5), object(1)\n",
      "memory usage: 256.0+ bytes\n",
      "   messages_included  mb_per_month_included  minutes_included  \\\n",
      "0                 50                  15360               500   \n",
      "1               1000                  30720              3000   \n",
      "\n",
      "   usd_monthly_pay  usd_per_gb  usd_per_message  usd_per_minute plan_name  \n",
      "0               20          10             0.03            0.03      surf  \n",
      "1               70           7             0.01            0.01  ultimate  \n"
     ]
    }
   ],
   "source": [
    "plans.info(show_counts=True)\n",
    "print(plans.head(5))"
   ]
  },
  {
   "cell_type": "code",
   "execution_count": 56,
   "metadata": {},
   "outputs": [
    {
     "name": "stdout",
     "output_type": "stream",
     "text": [
      "<class 'pandas.core.frame.DataFrame'>\n",
      "RangeIndex: 500 entries, 0 to 499\n",
      "Data columns (total 8 columns):\n",
      " #   Column      Non-Null Count  Dtype \n",
      "---  ------      --------------  ----- \n",
      " 0   user_id     500 non-null    int64 \n",
      " 1   first_name  500 non-null    object\n",
      " 2   last_name   500 non-null    object\n",
      " 3   age         500 non-null    int64 \n",
      " 4   city        500 non-null    object\n",
      " 5   reg_date    500 non-null    object\n",
      " 6   plan        500 non-null    object\n",
      " 7   churn_date  34 non-null     object\n",
      "dtypes: int64(2), object(6)\n",
      "memory usage: 31.4+ KB\n"
     ]
    }
   ],
   "source": [
    "users.info(show_counts=True)"
   ]
  },
  {
   "cell_type": "markdown",
   "metadata": {
    "id": "vUuZw80S0q01"
   },
   "source": [
    "[Los datos para este proyecto se dividen en varias tablas. Explora cada una para tener una comprensión inicial de los datos. Si es necesario, haz las correcciones requeridas en cada tabla.]"
   ]
  },
  {
   "cell_type": "markdown",
   "metadata": {
    "id": "ohBhimvH0q01"
   },
   "source": [
    "## Tarifas"
   ]
  },
  {
   "cell_type": "code",
   "execution_count": 57,
   "metadata": {
    "id": "GptqP3Q40q02"
   },
   "outputs": [
    {
     "name": "stdout",
     "output_type": "stream",
     "text": [
      "<class 'pandas.core.frame.DataFrame'>\n",
      "RangeIndex: 2 entries, 0 to 1\n",
      "Data columns (total 8 columns):\n",
      " #   Column                 Non-Null Count  Dtype  \n",
      "---  ------                 --------------  -----  \n",
      " 0   messages_included      2 non-null      int64  \n",
      " 1   mb_per_month_included  2 non-null      int64  \n",
      " 2   minutes_included       2 non-null      int64  \n",
      " 3   usd_monthly_pay        2 non-null      int64  \n",
      " 4   usd_per_gb             2 non-null      int64  \n",
      " 5   usd_per_message        2 non-null      float64\n",
      " 6   usd_per_minute         2 non-null      float64\n",
      " 7   plan_name              2 non-null      object \n",
      "dtypes: float64(2), int64(5), object(1)\n",
      "memory usage: 256.0+ bytes\n"
     ]
    }
   ],
   "source": [
    "# Imprime la información general/resumida sobre el DataFrame de las tarifas\n",
    "\n",
    "plans.info(show_counts=True)\n"
   ]
  },
  {
   "cell_type": "code",
   "execution_count": 58,
   "metadata": {
    "id": "64xzjwL70q02"
   },
   "outputs": [
    {
     "name": "stdout",
     "output_type": "stream",
     "text": [
      "   messages_included  mb_per_month_included  minutes_included  \\\n",
      "0                 50                  15360               500   \n",
      "1               1000                  30720              3000   \n",
      "\n",
      "   usd_monthly_pay  usd_per_gb  usd_per_message  usd_per_minute plan_name  \n",
      "0               20          10             0.03            0.03      surf  \n",
      "1               70           7             0.01            0.01  ultimate  \n"
     ]
    }
   ],
   "source": [
    "# Imprime una muestra de los datos para las tarifas\n",
    "\n",
    "print(plans.head(9))\n",
    "\n"
   ]
  },
  {
   "cell_type": "code",
   "execution_count": 59,
   "metadata": {},
   "outputs": [
    {
     "data": {
      "text/plain": [
       "0"
      ]
     },
     "execution_count": 59,
     "metadata": {},
     "output_type": "execute_result"
    }
   ],
   "source": [
    "plans.duplicated().sum()"
   ]
  },
  {
   "cell_type": "markdown",
   "metadata": {},
   "source": [
    "Como primer analisis, hay varias columnas en este df pero da la sensación que estan vacias porque al imprimir una muestra solo aparecen dos filas. Se debería tener una misma unidad de medida para los MB y GB porque hay dos columnas que lo toman como referencia"
   ]
  },
  {
   "cell_type": "markdown",
   "metadata": {
    "id": "1n2X6WXf0q04"
   },
   "source": [
    "## Usuarios/as"
   ]
  },
  {
   "cell_type": "code",
   "execution_count": 130,
   "metadata": {
    "id": "2NgjWFqx0q05"
   },
   "outputs": [
    {
     "name": "stdout",
     "output_type": "stream",
     "text": [
      "<class 'pandas.core.frame.DataFrame'>\n",
      "RangeIndex: 500 entries, 0 to 499\n",
      "Data columns (total 9 columns):\n",
      " #   Column      Non-Null Count  Dtype         \n",
      "---  ------      --------------  -----         \n",
      " 0   user_id     500 non-null    int64         \n",
      " 1   first_name  500 non-null    object        \n",
      " 2   last_name   500 non-null    object        \n",
      " 3   age         500 non-null    int64         \n",
      " 4   city        500 non-null    object        \n",
      " 5   reg_date    500 non-null    datetime64[ns]\n",
      " 6   plan        500 non-null    object        \n",
      " 7   churn_date  500 non-null    object        \n",
      " 8   state       500 non-null    object        \n",
      "dtypes: datetime64[ns](1), int64(2), object(6)\n",
      "memory usage: 35.3+ KB\n"
     ]
    }
   ],
   "source": [
    "# Imprime la información general/resumida sobre el DataFrame de usuarios\n",
    "\n",
    "users.info(show_counts=True)"
   ]
  },
  {
   "cell_type": "code",
   "execution_count": 131,
   "metadata": {
    "id": "1IN1L9uh0q05"
   },
   "outputs": [
    {
     "name": "stdout",
     "output_type": "stream",
     "text": [
      "   user_id first_name  last_name  age                                    city  \\\n",
      "0     1000   Anamaria      Bauer   45   Atlanta-Sandy Springs-Roswell, GA MSA   \n",
      "1     1001     Mickey  Wilkerson   28         Seattle-Tacoma-Bellevue, WA MSA   \n",
      "2     1002     Carlee    Hoffman   36    Las Vegas-Henderson-Paradise, NV MSA   \n",
      "3     1003   Reynaldo    Jenkins   52                           Tulsa, OK MSA   \n",
      "4     1004    Leonila   Thompson   40         Seattle-Tacoma-Bellevue, WA MSA   \n",
      "5     1005      Livia    Shields   31     Dallas-Fort Worth-Arlington, TX MSA   \n",
      "6     1006     Jesusa   Bradford   73  San Francisco-Oakland-Berkeley, CA MSA   \n",
      "7     1007    Eusebio      Welch   42           Grand Rapids-Kentwood, MI MSA   \n",
      "8     1008      Emely    Hoffman   53       Orlando-Kissimmee-Sanford, FL MSA   \n",
      "9     1009      Gerry     Little   19  San Jose-Sunnyvale-Santa Clara, CA MSA   \n",
      "\n",
      "    reg_date      plan  churn_date                                      state  \n",
      "0 2018-12-24  ultimate     current   [Atlanta-Sandy Springs-Roswell,  GA MSA]  \n",
      "1 2018-08-13      surf     current         [Seattle-Tacoma-Bellevue,  WA MSA]  \n",
      "2 2018-10-21      surf     current    [Las Vegas-Henderson-Paradise,  NV MSA]  \n",
      "3 2018-01-28      surf     current                           [Tulsa,  OK MSA]  \n",
      "4 2018-05-23      surf     current         [Seattle-Tacoma-Bellevue,  WA MSA]  \n",
      "5 2018-11-29      surf     current     [Dallas-Fort Worth-Arlington,  TX MSA]  \n",
      "6 2018-11-27  ultimate  2018-12-18  [San Francisco-Oakland-Berkeley,  CA MSA]  \n",
      "7 2018-07-11      surf     current           [Grand Rapids-Kentwood,  MI MSA]  \n",
      "8 2018-08-03  ultimate     current       [Orlando-Kissimmee-Sanford,  FL MSA]  \n",
      "9 2018-04-22      surf     current  [San Jose-Sunnyvale-Santa Clara,  CA MSA]  \n"
     ]
    }
   ],
   "source": [
    "# Imprime una muestra de datos para usuarios\n",
    "\n",
    "print(users.head(10))\n",
    "\n"
   ]
  },
  {
   "cell_type": "markdown",
   "metadata": {},
   "source": [
    "Veo dos cosas. La primera es que lo valores ausentes deden de ser reemplazados por algo mejor representativo debido a que si aparece Nan, significa que el plan sigue activo al momento de hacer el df. "
   ]
  },
  {
   "cell_type": "markdown",
   "metadata": {
    "id": "BX5FQh_I0q06"
   },
   "source": [
    "### Corregir los datos"
   ]
  },
  {
   "cell_type": "code",
   "execution_count": 62,
   "metadata": {
    "id": "yUqX-K0C0q07"
   },
   "outputs": [],
   "source": [
    "users[\"churn_date\"] = users[\"churn_date\"].fillna(\"current\")\n",
    "users[\"reg_date\"] = pd.to_datetime(users[\"reg_date\"], format=\"%Y-%m-%d\")"
   ]
  },
  {
   "cell_type": "markdown",
   "metadata": {
    "id": "o7MeKCid0q08"
   },
   "source": [
    "## Llamadas"
   ]
  },
  {
   "cell_type": "code",
   "execution_count": 63,
   "metadata": {
    "id": "6dDlnoDm0q08"
   },
   "outputs": [
    {
     "name": "stdout",
     "output_type": "stream",
     "text": [
      "<class 'pandas.core.frame.DataFrame'>\n",
      "RangeIndex: 137735 entries, 0 to 137734\n",
      "Data columns (total 4 columns):\n",
      " #   Column     Non-Null Count   Dtype  \n",
      "---  ------     --------------   -----  \n",
      " 0   id         137735 non-null  object \n",
      " 1   user_id    137735 non-null  int64  \n",
      " 2   call_date  137735 non-null  object \n",
      " 3   duration   137735 non-null  float64\n",
      "dtypes: float64(1), int64(1), object(2)\n",
      "memory usage: 4.2+ MB\n"
     ]
    }
   ],
   "source": [
    "# Imprime la información general/resumida sobre el DataFrame de las llamadas\n",
    "\n",
    "calls.info(show_counts=True)\n"
   ]
  },
  {
   "cell_type": "code",
   "execution_count": 64,
   "metadata": {
    "id": "kuh1vlNB0q09"
   },
   "outputs": [
    {
     "name": "stdout",
     "output_type": "stream",
     "text": [
      "         id  user_id   call_date  duration\n",
      "0   1000_93     1000  2018-12-27      8.52\n",
      "1  1000_145     1000  2018-12-27     13.66\n",
      "2  1000_247     1000  2018-12-27     14.48\n",
      "3  1000_309     1000  2018-12-28      5.76\n",
      "4  1000_380     1000  2018-12-30      4.22\n",
      "5  1000_388     1000  2018-12-31      2.20\n",
      "6  1000_510     1000  2018-12-27      5.75\n",
      "7  1000_521     1000  2018-12-28     14.18\n",
      "8  1000_530     1000  2018-12-28      5.77\n",
      "9  1000_544     1000  2018-12-26      4.40\n"
     ]
    }
   ],
   "source": [
    "# Imprime una muestra de datos para las llamadas\n",
    "\n",
    "print(calls.head(10))\n"
   ]
  },
  {
   "cell_type": "markdown",
   "metadata": {},
   "source": [
    "call_date no está en el formato correcto, hay que corregirlo puesto que es una fecha. Lo mismo para user_id porque tiene que ser un str. "
   ]
  },
  {
   "cell_type": "markdown",
   "metadata": {
    "id": "S7hzxmbX0q0-"
   },
   "source": [
    "### Corregir los datos"
   ]
  },
  {
   "cell_type": "code",
   "execution_count": 65,
   "metadata": {
    "id": "S2r8xA4f0q0-"
   },
   "outputs": [],
   "source": [
    "calls[\"call_date\"] = pd.to_datetime(calls[\"call_date\"], format=\"%Y-%m-%d\")\n"
   ]
  },
  {
   "cell_type": "markdown",
   "metadata": {
    "id": "mOUZSi180q0_"
   },
   "source": [
    "## Mensajes"
   ]
  },
  {
   "cell_type": "code",
   "execution_count": 66,
   "metadata": {
    "id": "R-bYJpdV0q1A"
   },
   "outputs": [
    {
     "name": "stdout",
     "output_type": "stream",
     "text": [
      "<class 'pandas.core.frame.DataFrame'>\n",
      "RangeIndex: 76051 entries, 0 to 76050\n",
      "Data columns (total 3 columns):\n",
      " #   Column        Non-Null Count  Dtype \n",
      "---  ------        --------------  ----- \n",
      " 0   id            76051 non-null  object\n",
      " 1   user_id       76051 non-null  int64 \n",
      " 2   message_date  76051 non-null  object\n",
      "dtypes: int64(1), object(2)\n",
      "memory usage: 1.7+ MB\n"
     ]
    }
   ],
   "source": [
    "# Imprime la información general/resumida sobre el DataFrame de los mensajes\n",
    "messages.info(show_counts=True)\n"
   ]
  },
  {
   "cell_type": "code",
   "execution_count": 67,
   "metadata": {
    "id": "mCEl2iGE0q1A"
   },
   "outputs": [
    {
     "name": "stdout",
     "output_type": "stream",
     "text": [
      "         id  user_id message_date\n",
      "0  1000_125     1000   2018-12-27\n",
      "1  1000_160     1000   2018-12-31\n",
      "2  1000_223     1000   2018-12-31\n",
      "3  1000_251     1000   2018-12-27\n",
      "4  1000_255     1000   2018-12-26\n"
     ]
    }
   ],
   "source": [
    "# Imprime una muestra de datos para los mensajes\n",
    "\n",
    "print(messages.head())"
   ]
  },
  {
   "cell_type": "markdown",
   "metadata": {},
   "source": [
    "El mismo error se repite, el formato de message_date no es correcto debido a que tiene una fecha y se considera como un numero, por el momento "
   ]
  },
  {
   "cell_type": "markdown",
   "metadata": {
    "id": "Sprfak900q1B"
   },
   "source": [
    "### Corregir los datos"
   ]
  },
  {
   "cell_type": "code",
   "execution_count": 68,
   "metadata": {
    "id": "vsllvkoa0q1B"
   },
   "outputs": [],
   "source": [
    "messages[\"message_date\"] = pd.to_datetime(messages[\"message_date\"], format=\"%Y-%m-%d\")"
   ]
  },
  {
   "cell_type": "markdown",
   "metadata": {
    "id": "bStkaxn40q1C"
   },
   "source": [
    "## Internet"
   ]
  },
  {
   "cell_type": "code",
   "execution_count": 69,
   "metadata": {
    "id": "e-Uz5qyn0q1C"
   },
   "outputs": [
    {
     "name": "stdout",
     "output_type": "stream",
     "text": [
      "<class 'pandas.core.frame.DataFrame'>\n",
      "RangeIndex: 104825 entries, 0 to 104824\n",
      "Data columns (total 4 columns):\n",
      " #   Column        Non-Null Count   Dtype  \n",
      "---  ------        --------------   -----  \n",
      " 0   id            104825 non-null  object \n",
      " 1   user_id       104825 non-null  int64  \n",
      " 2   session_date  104825 non-null  object \n",
      " 3   mb_used       104825 non-null  float64\n",
      "dtypes: float64(1), int64(1), object(2)\n",
      "memory usage: 3.2+ MB\n"
     ]
    }
   ],
   "source": [
    "# Imprime la información general/resumida sobre el DataFrame de internet\n",
    "internet.info(show_counts=True)\n"
   ]
  },
  {
   "cell_type": "code",
   "execution_count": 70,
   "metadata": {
    "id": "9r3x_XLw0q1C"
   },
   "outputs": [
    {
     "name": "stdout",
     "output_type": "stream",
     "text": [
      "         id  user_id session_date  mb_used\n",
      "0   1000_13     1000   2018-12-29    89.86\n",
      "1  1000_204     1000   2018-12-31     0.00\n",
      "2  1000_379     1000   2018-12-28   660.40\n",
      "3  1000_413     1000   2018-12-26   270.99\n",
      "4  1000_442     1000   2018-12-27   880.22\n"
     ]
    }
   ],
   "source": [
    "# Imprime una muestra de datos para el tráfico de internet\n",
    "\n",
    "print(internet.head())"
   ]
  },
  {
   "cell_type": "markdown",
   "metadata": {},
   "source": [
    "La columna session_date se considera como numero entero, pero tiene fechas"
   ]
  },
  {
   "cell_type": "markdown",
   "metadata": {
    "id": "yA0tkPFg0q1D"
   },
   "source": [
    "### Corregir los datos"
   ]
  },
  {
   "cell_type": "code",
   "execution_count": 71,
   "metadata": {
    "id": "zVeanzdd0q1E"
   },
   "outputs": [],
   "source": [
    "internet[\"session_date\"] = pd.to_datetime(internet[\"session_date\"], format=\"%Y-%m-%d\")"
   ]
  },
  {
   "cell_type": "markdown",
   "metadata": {
    "id": "3UA2cqIW0q1E"
   },
   "source": [
    "## Estudiar las condiciones de las tarifas"
   ]
  },
  {
   "cell_type": "code",
   "execution_count": 72,
   "metadata": {
    "id": "i409op8p0q1F"
   },
   "outputs": [
    {
     "name": "stdout",
     "output_type": "stream",
     "text": [
      "   messages_included  mb_per_month_included  minutes_included  \\\n",
      "0                 50                  15360               500   \n",
      "1               1000                  30720              3000   \n",
      "\n",
      "   usd_monthly_pay  usd_per_gb  usd_per_message  usd_per_minute plan_name  \n",
      "0               20          10             0.03            0.03      surf  \n",
      "1               70           7             0.01            0.01  ultimate  \n"
     ]
    }
   ],
   "source": [
    "# Imprime las condiciones de la tarifa y asegúrate de que te quedan claras\n",
    "\n",
    "print(plans.head())\n"
   ]
  },
  {
   "cell_type": "markdown",
   "metadata": {
    "id": "hMR1tP5d0q1F"
   },
   "source": [
    "## Agregar datos por usuario\n",
    "\n",
    "[Ahora que los datos están limpios, agrega los datos por usuario y por periodo para que solo haya un registro por usuario y por periodo. Esto facilitará mucho el análisis posterior.]"
   ]
  },
  {
   "cell_type": "code",
   "execution_count": 73,
   "metadata": {
    "id": "A332cedB0q1G"
   },
   "outputs": [
    {
     "name": "stdout",
     "output_type": "stream",
     "text": [
      "   user_id  month  duration\n",
      "0     1000     12        16\n",
      "1     1001      8        27\n",
      "2     1001      9        49\n",
      "3     1001     10        65\n",
      "4     1001     11        64\n"
     ]
    }
   ],
   "source": [
    "# Calcula el número de llamadas hechas por cada usuario al mes. Guarda el resultado.\n",
    "\n",
    "calls[\"month\"] = calls[\"call_date\"].dt.month\n",
    "\n",
    "calls_per_user = calls.groupby([\"user_id\", \"month\"])[\"duration\"].count().reset_index()\n",
    "print(calls_per_user.head())\n",
    "\n"
   ]
  },
  {
   "cell_type": "code",
   "execution_count": 74,
   "metadata": {
    "id": "aw2cmuql0q1G"
   },
   "outputs": [
    {
     "name": "stdout",
     "output_type": "stream",
     "text": [
      "   user_id  month  rounded_duration\n",
      "0     1000     12             124.0\n",
      "1     1001      8             182.0\n",
      "2     1001      9             315.0\n",
      "3     1001     10             393.0\n",
      "4     1001     11             426.0\n"
     ]
    }
   ],
   "source": [
    "# Calcula la cantidad de minutos usados por cada usuario al mes. Guarda el resultado.\n",
    "\n",
    "calls[\"rounded_duration\"] = np.ceil(calls[\"duration\"])\n",
    "minutes_per_user = calls.groupby([\"user_id\", \"month\"])[\"rounded_duration\"].sum().reset_index()\n",
    "print(minutes_per_user.head())\n"
   ]
  },
  {
   "cell_type": "code",
   "execution_count": 75,
   "metadata": {
    "id": "CcQvNHn60q1G"
   },
   "outputs": [
    {
     "name": "stdout",
     "output_type": "stream",
     "text": [
      "   user_id  month  id\n",
      "0     1000     12  11\n",
      "1     1001      8  30\n",
      "2     1001      9  44\n",
      "3     1001     10  53\n",
      "4     1001     11  36\n"
     ]
    }
   ],
   "source": [
    "# Calcula el número de mensajes enviados por cada usuario al mes. Guarda el resultado.\n",
    "\n",
    "messages[\"month\"] = messages[\"message_date\"].dt.month\n",
    "messages_per_user = messages.groupby([\"user_id\", \"month\"])[\"id\"].count().reset_index()\n",
    "print(messages_per_user.head())"
   ]
  },
  {
   "cell_type": "code",
   "execution_count": 76,
   "metadata": {
    "id": "H1AqN2eG0q1H"
   },
   "outputs": [
    {
     "name": "stdout",
     "output_type": "stream",
     "text": [
      "   user_id  month  rounded_int\n",
      "0     1000     12       1903.0\n",
      "1     1001      8       6929.0\n",
      "2     1001      9      13333.0\n",
      "3     1001     10      22356.0\n",
      "4     1001     11      18524.0\n"
     ]
    }
   ],
   "source": [
    "# Calcula el volumen del tráfico de Internet usado por cada usuario al mes. Guarda el resultado.\n",
    "\n",
    "internet[\"month\"] = internet[\"session_date\"].dt.month\n",
    "internet[\"rounded_int\"] = np.ceil(internet[\"mb_used\"])\n",
    "internet_per_user = internet.groupby([\"user_id\", \"month\"])[\"rounded_int\"].sum().reset_index()\n",
    "print(internet_per_user.head())"
   ]
  },
  {
   "cell_type": "code",
   "execution_count": 132,
   "metadata": {},
   "outputs": [],
   "source": [
    "df_user = users[[\"user_id\", \"plan\", \"city\"]]"
   ]
  },
  {
   "cell_type": "code",
   "execution_count": 133,
   "metadata": {},
   "outputs": [
    {
     "name": "stdout",
     "output_type": "stream",
     "text": [
      "int64\n",
      "int64\n"
     ]
    }
   ],
   "source": [
    "print(calls_per_user[\"user_id\"].dtype)\n",
    "print(users[\"user_id\"].dtype)"
   ]
  },
  {
   "cell_type": "code",
   "execution_count": 134,
   "metadata": {},
   "outputs": [],
   "source": [
    "users[\"user_id\"] = users[\"user_id\"].astype(int)"
   ]
  },
  {
   "cell_type": "code",
   "execution_count": 135,
   "metadata": {},
   "outputs": [
    {
     "name": "stdout",
     "output_type": "stream",
     "text": [
      "int64\n",
      "int64\n"
     ]
    }
   ],
   "source": [
    "print(calls_per_user[\"user_id\"].dtype)\n",
    "print(users[\"user_id\"].dtype)"
   ]
  },
  {
   "cell_type": "code",
   "execution_count": 136,
   "metadata": {},
   "outputs": [
    {
     "name": "stdout",
     "output_type": "stream",
     "text": [
      "Index(['user_id', 'month', 'id'], dtype='object')\n",
      "Index(['user_id', 'month', 'rounded_duration'], dtype='object')\n",
      "Index(['user_id', 'month', 'rounded_int'], dtype='object')\n",
      "Index(['user_id', 'month', 'duration'], dtype='object')\n"
     ]
    }
   ],
   "source": [
    "print(messages_per_user.columns)\n",
    "print(minutes_per_user.columns)\n",
    "print(internet_per_user.columns)\n",
    "print(calls_per_user.columns)"
   ]
  },
  {
   "cell_type": "code",
   "execution_count": 137,
   "metadata": {
    "id": "FW99ykyf0q1H"
   },
   "outputs": [],
   "source": [
    "# Fusiona los datos de llamadas, minutos, mensajes e Internet con base en user_id y month\n",
    "calls_per_user_df = calls_per_user.merge(df_user, on=\"user_id\", how=\"left\")\n",
    "messages_per_user_df = calls_per_user_df.merge(messages_per_user, on=[\"user_id\", \"month\"], how=\"left\")\n",
    "minutes_per_user_df = messages_per_user_df.merge(minutes_per_user, on=[\"user_id\", \"month\"], how=\"left\")\n",
    "complete_df = minutes_per_user_df.merge(internet_per_user, on=[\"user_id\", \"month\"], how=\"left\")\n"
   ]
  },
  {
   "cell_type": "code",
   "execution_count": 138,
   "metadata": {},
   "outputs": [
    {
     "name": "stdout",
     "output_type": "stream",
     "text": [
      "      user_id  month  duration      plan  \\\n",
      "0        1000     12        16  ultimate   \n",
      "1        1001      8        27      surf   \n",
      "2        1001      9        49      surf   \n",
      "3        1001     10        65      surf   \n",
      "4        1001     11        64      surf   \n",
      "...       ...    ...       ...       ...   \n",
      "2253     1498     12        39      surf   \n",
      "2254     1499      9        41      surf   \n",
      "2255     1499     10        53      surf   \n",
      "2256     1499     11        45      surf   \n",
      "2257     1499     12        65      surf   \n",
      "\n",
      "                                           city    id  rounded_duration  \\\n",
      "0         Atlanta-Sandy Springs-Roswell, GA MSA  11.0             124.0   \n",
      "1               Seattle-Tacoma-Bellevue, WA MSA  30.0             182.0   \n",
      "2               Seattle-Tacoma-Bellevue, WA MSA  44.0             315.0   \n",
      "3               Seattle-Tacoma-Bellevue, WA MSA  53.0             393.0   \n",
      "4               Seattle-Tacoma-Bellevue, WA MSA  36.0             426.0   \n",
      "...                                         ...   ...               ...   \n",
      "2253  New York-Newark-Jersey City, NY-NJ-PA MSA   NaN             339.0   \n",
      "2254          Orlando-Kissimmee-Sanford, FL MSA   NaN             346.0   \n",
      "2255          Orlando-Kissimmee-Sanford, FL MSA   NaN             385.0   \n",
      "2256          Orlando-Kissimmee-Sanford, FL MSA   NaN             308.0   \n",
      "2257          Orlando-Kissimmee-Sanford, FL MSA   NaN             496.0   \n",
      "\n",
      "      rounded_int  \n",
      "0          1903.0  \n",
      "1          6929.0  \n",
      "2         13333.0  \n",
      "3         22356.0  \n",
      "4         18524.0  \n",
      "...           ...  \n",
      "2253      23160.0  \n",
      "2254      13004.0  \n",
      "2255      19515.0  \n",
      "2256      16834.0  \n",
      "2257      22091.0  \n",
      "\n",
      "[2258 rows x 8 columns]\n"
     ]
    }
   ],
   "source": [
    "print(complete_df)"
   ]
  },
  {
   "cell_type": "code",
   "execution_count": 139,
   "metadata": {
    "id": "0dNOXHag0q1H"
   },
   "outputs": [],
   "source": [
    "# Añade la información de la tarifa\n",
    "\n",
    "plans[\"plan\"] = plans[\"plan_name\"]\n",
    "\n",
    "complete_df_plans = complete_df.merge(plans, on=\"plan\", how=\"left\")\n",
    "complete_df_plans = complete_df.merge(plans, on=\"plan\", how=\"left\")"
   ]
  },
  {
   "cell_type": "code",
   "execution_count": 140,
   "metadata": {},
   "outputs": [
    {
     "name": "stdout",
     "output_type": "stream",
     "text": [
      "Index(['messages_included', 'mb_per_month_included', 'minutes_included',\n",
      "       'usd_monthly_pay', 'usd_per_gb', 'usd_per_message', 'usd_per_minute',\n",
      "       'plan_name', 'plan'],\n",
      "      dtype='object')\n"
     ]
    }
   ],
   "source": [
    "print(plans.columns)"
   ]
  },
  {
   "cell_type": "code",
   "execution_count": 141,
   "metadata": {},
   "outputs": [
    {
     "name": "stdout",
     "output_type": "stream",
     "text": [
      "   user_id  month  duration      plan                                   city  \\\n",
      "0     1000     12        16  ultimate  Atlanta-Sandy Springs-Roswell, GA MSA   \n",
      "1     1001      8        27      surf        Seattle-Tacoma-Bellevue, WA MSA   \n",
      "2     1001      9        49      surf        Seattle-Tacoma-Bellevue, WA MSA   \n",
      "3     1001     10        65      surf        Seattle-Tacoma-Bellevue, WA MSA   \n",
      "4     1001     11        64      surf        Seattle-Tacoma-Bellevue, WA MSA   \n",
      "\n",
      "     id  rounded_duration  rounded_int  messages_included  \\\n",
      "0  11.0             124.0       1903.0               1000   \n",
      "1  30.0             182.0       6929.0                 50   \n",
      "2  44.0             315.0      13333.0                 50   \n",
      "3  53.0             393.0      22356.0                 50   \n",
      "4  36.0             426.0      18524.0                 50   \n",
      "\n",
      "   mb_per_month_included  minutes_included  usd_monthly_pay  usd_per_gb  \\\n",
      "0                  30720              3000               70           7   \n",
      "1                  15360               500               20          10   \n",
      "2                  15360               500               20          10   \n",
      "3                  15360               500               20          10   \n",
      "4                  15360               500               20          10   \n",
      "\n",
      "   usd_per_message  usd_per_minute plan_name  \n",
      "0             0.01            0.01  ultimate  \n",
      "1             0.03            0.03      surf  \n",
      "2             0.03            0.03      surf  \n",
      "3             0.03            0.03      surf  \n",
      "4             0.03            0.03      surf  \n"
     ]
    }
   ],
   "source": [
    "print(complete_df_plans.head())"
   ]
  },
  {
   "cell_type": "code",
   "execution_count": 142,
   "metadata": {
    "id": "5FGCf_c60q1I"
   },
   "outputs": [],
   "source": [
    "# Calcula el ingreso mensual para cada usuario\n",
    "\n",
    "# MB a GB para el calculo de excedente\n",
    "complete_df_plans[\"gb_used\"] = complete_df_plans[\"rounded_int\"] / 1024\n",
    "\n",
    "\n",
    "#Calcular excedentes \n",
    "complete_df_plans[\"extra_minutes\"] = (complete_df_plans[\"duration\"] - complete_df_plans[\"minutes_included\"]).clip(lower=0)\n",
    "complete_df_plans[\"extra_messages\"] = (complete_df_plans[\"id\"] - complete_df_plans[\"messages_included\"]).clip(lower=0)\n",
    "complete_df_plans[\"extra_gb\"] = (complete_df_plans[\"gb_used\"] - complete_df_plans[\"mb_per_month_included\"] / 1024).clip(lower=0)\n",
    "\n"
   ]
  },
  {
   "cell_type": "code",
   "execution_count": 143,
   "metadata": {},
   "outputs": [],
   "source": [
    "# Costos adicionales \n",
    "\n",
    "complete_df_plans[\"extra_minutes_cost\"] = complete_df_plans[\"extra_minutes\"] * complete_df_plans[\"usd_per_minute\"]\n",
    "complete_df_plans[\"extra_message_cost\"] = complete_df_plans[\"extra_messages\"] * complete_df_plans[\"usd_per_message\"]\n",
    "complete_df_plans[\"extra_gb_cost\"] = complete_df_plans[\"extra_gb\"] * complete_df_plans[\"usd_per_gb\"]\n",
    "\n",
    "#Total mensual\n",
    "\n",
    "complete_df_plans[\"revenue\"] = (\n",
    "    complete_df_plans[\"usd_monthly_pay\"] + \n",
    "    complete_df_plans[\"extra_minutes_cost\"] + \n",
    "    complete_df_plans[\"extra_message_cost\"] + \n",
    "    complete_df_plans[\"extra_gb_cost\"])\n",
    "\n"
   ]
  },
  {
   "cell_type": "code",
   "execution_count": 144,
   "metadata": {},
   "outputs": [
    {
     "data": {
      "text/html": [
       "<div>\n",
       "<style scoped>\n",
       "    .dataframe tbody tr th:only-of-type {\n",
       "        vertical-align: middle;\n",
       "    }\n",
       "\n",
       "    .dataframe tbody tr th {\n",
       "        vertical-align: top;\n",
       "    }\n",
       "\n",
       "    .dataframe thead th {\n",
       "        text-align: right;\n",
       "    }\n",
       "</style>\n",
       "<table border=\"1\" class=\"dataframe\">\n",
       "  <thead>\n",
       "    <tr style=\"text-align: right;\">\n",
       "      <th></th>\n",
       "      <th>user_id</th>\n",
       "      <th>month</th>\n",
       "      <th>plan</th>\n",
       "      <th>revenue</th>\n",
       "    </tr>\n",
       "  </thead>\n",
       "  <tbody>\n",
       "    <tr>\n",
       "      <th>0</th>\n",
       "      <td>1000</td>\n",
       "      <td>12</td>\n",
       "      <td>ultimate</td>\n",
       "      <td>70.000000</td>\n",
       "    </tr>\n",
       "    <tr>\n",
       "      <th>1</th>\n",
       "      <td>1001</td>\n",
       "      <td>8</td>\n",
       "      <td>surf</td>\n",
       "      <td>20.000000</td>\n",
       "    </tr>\n",
       "    <tr>\n",
       "      <th>2</th>\n",
       "      <td>1001</td>\n",
       "      <td>9</td>\n",
       "      <td>surf</td>\n",
       "      <td>20.000000</td>\n",
       "    </tr>\n",
       "    <tr>\n",
       "      <th>3</th>\n",
       "      <td>1001</td>\n",
       "      <td>10</td>\n",
       "      <td>surf</td>\n",
       "      <td>88.410313</td>\n",
       "    </tr>\n",
       "    <tr>\n",
       "      <th>4</th>\n",
       "      <td>1001</td>\n",
       "      <td>11</td>\n",
       "      <td>surf</td>\n",
       "      <td>50.898438</td>\n",
       "    </tr>\n",
       "  </tbody>\n",
       "</table>\n",
       "</div>"
      ],
      "text/plain": [
       "   user_id  month      plan    revenue\n",
       "0     1000     12  ultimate  70.000000\n",
       "1     1001      8      surf  20.000000\n",
       "2     1001      9      surf  20.000000\n",
       "3     1001     10      surf  88.410313\n",
       "4     1001     11      surf  50.898438"
      ]
     },
     "execution_count": 144,
     "metadata": {},
     "output_type": "execute_result"
    }
   ],
   "source": [
    "complete_df_plans[[\"user_id\", \"month\", \"plan\", \"revenue\"]].head()"
   ]
  },
  {
   "cell_type": "code",
   "execution_count": 145,
   "metadata": {},
   "outputs": [
    {
     "name": "stdout",
     "output_type": "stream",
     "text": [
      "      user_id  month  duration      plan  \\\n",
      "0        1000     12        16  ultimate   \n",
      "1        1001      8        27      surf   \n",
      "2        1001      9        49      surf   \n",
      "3        1001     10        65      surf   \n",
      "4        1001     11        64      surf   \n",
      "...       ...    ...       ...       ...   \n",
      "2238     1496      9        52      surf   \n",
      "2239     1496     10        46      surf   \n",
      "2240     1496     11        39      surf   \n",
      "2241     1496     12        40      surf   \n",
      "2242     1497     12        54  ultimate   \n",
      "\n",
      "                                        city    id  rounded_duration  \\\n",
      "0      Atlanta-Sandy Springs-Roswell, GA MSA  11.0             124.0   \n",
      "1            Seattle-Tacoma-Bellevue, WA MSA  30.0             182.0   \n",
      "2            Seattle-Tacoma-Bellevue, WA MSA  44.0             315.0   \n",
      "3            Seattle-Tacoma-Bellevue, WA MSA  53.0             393.0   \n",
      "4            Seattle-Tacoma-Bellevue, WA MSA  36.0             426.0   \n",
      "...                                      ...   ...               ...   \n",
      "2238            New Orleans-Metairie, LA MSA  21.0             414.0   \n",
      "2239            New Orleans-Metairie, LA MSA  18.0             317.0   \n",
      "2240            New Orleans-Metairie, LA MSA  13.0             308.0   \n",
      "2241            New Orleans-Metairie, LA MSA  11.0             294.0   \n",
      "2242  Los Angeles-Long Beach-Anaheim, CA MSA  50.0             300.0   \n",
      "\n",
      "      rounded_int  messages_included  mb_per_month_included  ...  \\\n",
      "0          1903.0               1000                  30720  ...   \n",
      "1          6929.0                 50                  15360  ...   \n",
      "2         13333.0                 50                  15360  ...   \n",
      "3         22356.0                 50                  15360  ...   \n",
      "4         18524.0                 50                  15360  ...   \n",
      "...           ...                ...                    ...  ...   \n",
      "2238      16412.0                 50                  15360  ...   \n",
      "2239      14308.0                 50                  15360  ...   \n",
      "2240       8561.0                 50                  15360  ...   \n",
      "2241      16460.0                 50                  15360  ...   \n",
      "2242      11120.0               1000                  30720  ...   \n",
      "\n",
      "      usd_per_minute  plan_name    gb_used  extra_minutes  extra_messages  \\\n",
      "0               0.01   ultimate   1.858398              0             0.0   \n",
      "1               0.03       surf   6.766602              0             0.0   \n",
      "2               0.03       surf  13.020508              0             0.0   \n",
      "3               0.03       surf  21.832031              0             3.0   \n",
      "4               0.03       surf  18.089844              0             0.0   \n",
      "...              ...        ...        ...            ...             ...   \n",
      "2238            0.03       surf  16.027344              0             0.0   \n",
      "2239            0.03       surf  13.972656              0             0.0   \n",
      "2240            0.03       surf   8.360352              0             0.0   \n",
      "2241            0.03       surf  16.074219              0             0.0   \n",
      "2242            0.01   ultimate  10.859375              0             0.0   \n",
      "\n",
      "      extra_gb  extra_minutes_cost  extra_message_cost  extra_gb_cost  \\\n",
      "0     0.000000                 0.0                0.00       0.000000   \n",
      "1     0.000000                 0.0                0.00       0.000000   \n",
      "2     0.000000                 0.0                0.00       0.000000   \n",
      "3     6.832031                 0.0                0.09      68.320312   \n",
      "4     3.089844                 0.0                0.00      30.898438   \n",
      "...        ...                 ...                 ...            ...   \n",
      "2238  1.027344                 0.0                0.00      10.273438   \n",
      "2239  0.000000                 0.0                0.00       0.000000   \n",
      "2240  0.000000                 0.0                0.00       0.000000   \n",
      "2241  1.074219                 0.0                0.00      10.742188   \n",
      "2242  0.000000                 0.0                0.00       0.000000   \n",
      "\n",
      "        revenue  \n",
      "0     70.000000  \n",
      "1     20.000000  \n",
      "2     20.000000  \n",
      "3     88.410313  \n",
      "4     50.898438  \n",
      "...         ...  \n",
      "2238  30.273438  \n",
      "2239  20.000000  \n",
      "2240  20.000000  \n",
      "2241  30.742188  \n",
      "2242  70.000000  \n",
      "\n",
      "[1759 rows x 24 columns]\n"
     ]
    }
   ],
   "source": [
    "complete_df_plans_clean = complete_df_plans.dropna()\n",
    "\n",
    "print(complete_df_plans_clean)\n"
   ]
  },
  {
   "cell_type": "markdown",
   "metadata": {
    "id": "-jtyHzJb0q1I"
   },
   "source": [
    "## Estudia el comportamiento de usuario"
   ]
  },
  {
   "cell_type": "markdown",
   "metadata": {
    "id": "vtW4CJEe0q1J"
   },
   "source": [
    "### Llamadas"
   ]
  },
  {
   "cell_type": "code",
   "execution_count": 146,
   "metadata": {
    "id": "Jf5v5--k0q1J"
   },
   "outputs": [
    {
     "data": {
      "image/png": "[encoded data removed]",
      "text/plain": [
       "<Figure size 640x480 with 1 Axes>"
      ]
     },
     "metadata": {},
     "output_type": "display_data"
    }
   ],
   "source": [
    "# Compara la duración promedio de llamadas por cada plan y por cada mes. Traza un gráfico de barras para visualizarla.\n",
    "\n",
    "avg_duration_surf = complete_df_plans_clean[complete_df_plans_clean[\"plan\"] == \"surf\"].groupby(\"month\")[\"duration\"].mean().reset_index()\n",
    "\n",
    "avg_duration_surf.plot(kind=\"bar\",\n",
    "                     x=\"month\", \n",
    "                     y=\"duration\",\n",
    "                     xlabel=\"mes\",\n",
    "                     ylabel=\"duracion promedio de llamada\",\n",
    "                     title=\"Duracion de llamadas por mes, plan surf\")\n",
    "plt.show()\n",
    "                        "
   ]
  },
  {
   "cell_type": "code",
   "execution_count": 147,
   "metadata": {},
   "outputs": [
    {
     "data": {
      "text/plain": [
       "<AxesSubplot:title={'center':'Duracion de llamadas por mes, plan ultimate'}, xlabel='mes', ylabel='duracion promedio de llamada'>"
      ]
     },
     "execution_count": 147,
     "metadata": {},
     "output_type": "execute_result"
    },
    {
     "data": {
      "image/png": "[encoded data removed]",
      "text/plain": [
       "<Figure size 640x480 with 1 Axes>"
      ]
     },
     "metadata": {},
     "output_type": "display_data"
    }
   ],
   "source": [
    "avg_duration_ultimate = complete_df_plans_clean[complete_df_plans_clean[\"plan\"] == \"ultimate\"].groupby(\"month\")[\"duration\"].mean().reset_index()\n",
    "\n",
    "\n",
    "avg_duration_ultimate.plot(kind=\"bar\",\n",
    "                     x=\"month\", \n",
    "                     y=\"duration\",\n",
    "                     xlabel=\"mes\",\n",
    "                     ylabel=\"duracion promedio de llamada\",\n",
    "                     title=\"Duracion de llamadas por mes, plan ultimate\")"
   ]
  },
  {
   "cell_type": "code",
   "execution_count": 148,
   "metadata": {
    "id": "QoLqW1S_0q1J"
   },
   "outputs": [
    {
     "data": {
      "image/png": "[encoded data removed]",
      "text/plain": [
       "<Figure size 640x480 with 1 Axes>"
      ]
     },
     "metadata": {},
     "output_type": "display_data"
    }
   ],
   "source": [
    "# Compara el número de minutos mensuales que necesitan los usuarios de cada plan. Traza un histograma.\n",
    "\n",
    "complete_df_plans_clean[complete_df_plans_clean['plan'] == 'surf']['rounded_duration'].plot(kind='hist', alpha=0.5, label='Surf', bins=20)\n",
    "complete_df_plans_clean[complete_df_plans_clean['plan'] == 'ultimate']['rounded_duration'].plot(kind='hist', alpha=0.5, label='Ultimate', bins=20)\n",
    "\n",
    "\n",
    "plt.xlabel('Minutos Mensuales')\n",
    "plt.ylabel('Frecuencia de Usuarios')\n",
    "plt.title('Distribución de Minutos Mensuales por Plan')\n",
    "plt.legend(title=\"Planes\")\n",
    "plt.show()\n"
   ]
  },
  {
   "cell_type": "code",
   "execution_count": 149,
   "metadata": {
    "id": "oSndbAnt0q1K"
   },
   "outputs": [
    {
     "name": "stdout",
     "output_type": "stream",
     "text": [
      "La media de la duracion mensual de llamadas es: plan\n",
      "surf        62.196610\n",
      "ultimate    62.286701\n",
      "Name: duration, dtype: float64\n",
      "La varianza de la duracion mensual de llamadas es: 0.0020290988490734136\n"
     ]
    }
   ],
   "source": [
    "# Calcula la media y la varianza de la duración mensual de llamadas.\n",
    "\n",
    "call_stats = complete_df_plans_clean.groupby(\"plan\")[\"duration\"].mean()\n",
    "\n",
    "variance = np.var(call_stats)\n",
    "\n",
    "print(\"La media de la duracion mensual de llamadas es:\", call_stats)\n",
    "print(\"La varianza de la duracion mensual de llamadas es:\", variance)\n"
   ]
  },
  {
   "cell_type": "code",
   "execution_count": 150,
   "metadata": {
    "id": "nZzoRUKc0q1K"
   },
   "outputs": [
    {
     "data": {
      "image/png": "[encoded data removed]",
      "text/plain": [
       "<Figure size 640x480 with 1 Axes>"
      ]
     },
     "metadata": {},
     "output_type": "display_data"
    }
   ],
   "source": [
    "# Traza un diagrama de caja para visualizar la distribución de la duración mensual de llamadas\n",
    "\n",
    "sns.boxplot(data=complete_df_plans_clean, x=\"plan\", y=\"duration\")\n",
    "plt.title(\"Distribución de la duración mensual de llamadas por plan\")\n",
    "plt.xlabel(\"Plan\")\n",
    "plt.ylabel(\"Duración mensual de llamadas (min)\")\n",
    "plt.show()"
   ]
  },
  {
   "cell_type": "markdown",
   "metadata": {},
   "source": [
    "La media de minutos por plan es casi similar. Se puede observar que la media de ultimate es 400 min y la de surf es 425 min. De igual manera, el valos maximo para ambos es 1000 min por llamada, aunque se tiene un sesgo hacia la derecha "
   ]
  },
  {
   "cell_type": "markdown",
   "metadata": {
    "id": "8idKy8Wh0q1L"
   },
   "source": [
    "### Mensajes"
   ]
  },
  {
   "cell_type": "code",
   "execution_count": 151,
   "metadata": {
    "id": "NXLxiTit0q1L"
   },
   "outputs": [
    {
     "name": "stdout",
     "output_type": "stream",
     "text": [
      "       plan         id\n",
      "0      surf  39.489831\n",
      "1  ultimate  46.455959\n"
     ]
    }
   ],
   "source": [
    "# Comprara el número de mensajes que tienden a enviar cada mes los usuarios de cada plan\n",
    "\n",
    "avg_messages_by_plan = complete_df_plans_clean.groupby(\"plan\")[\"id\"].mean().reset_index()\n",
    "\n",
    "print(avg_messages_by_plan)"
   ]
  },
  {
   "cell_type": "code",
   "execution_count": 152,
   "metadata": {
    "id": "GRI_R7xF0q1L"
   },
   "outputs": [
    {
     "name": "stdout",
     "output_type": "stream",
     "text": [
      "       plan   rounded_int\n",
      "0      surf  16648.568644\n",
      "1  ultimate  17270.944732\n"
     ]
    }
   ],
   "source": [
    "# Compara la cantidad de tráfico de Internet consumido por usuarios por plan\n",
    "\n",
    "avg_internet_by_plan = complete_df_plans_clean.groupby(\"plan\")[\"rounded_int\"].mean().reset_index()\n",
    "\n",
    "print(avg_internet_by_plan)"
   ]
  },
  {
   "cell_type": "markdown",
   "metadata": {
    "id": "dtFwCGAp0q1M"
   },
   "source": [
    "En promedio, los usuarios del plan ultimate envian el mayor numero de mensajes de texto al mes. De igual forma, consumen la mayor cantidad de mb al mes. Esto es en comparacion a los usuarios del plan surf "
   ]
  },
  {
   "cell_type": "markdown",
   "metadata": {
    "id": "42YSypXz0q1M"
   },
   "source": [
    "### Internet"
   ]
  },
  {
   "cell_type": "code",
   "execution_count": 153,
   "metadata": {
    "id": "lSuKPtjh0q1M"
   },
   "outputs": [
    {
     "data": {
      "text/plain": [
       "Text(0, 0.5, 'MB usados por mes')"
      ]
     },
     "execution_count": 153,
     "metadata": {},
     "output_type": "execute_result"
    },
    {
     "data": {
      "image/png": "[encoded data removed]",
      "text/plain": [
       "<Figure size 640x480 with 1 Axes>"
      ]
     },
     "metadata": {},
     "output_type": "display_data"
    }
   ],
   "source": [
    "sns.boxplot(data=complete_df_plans_clean, x=\"plan\", y=\"rounded_int\")\n",
    "plt.title(\"Distribución del consumo mensual de Internet por plan\")\n",
    "plt.xlabel(\"Plan\")\n",
    "plt.ylabel(\"MB usados por mes\")"
   ]
  },
  {
   "cell_type": "markdown",
   "metadata": {
    "id": "wnh8jYXi0q1N"
   },
   "source": [
    "La media de MB usados por plan es muy similar, la de ultimate esta en casi 20000 MB por mes y la de surf en 19000 MB por mes. Por otro lado, el 75% de los datos no superan los 25000, los datos estan muy concentrados entre el Q1 y Q3. "
   ]
  },
  {
   "cell_type": "markdown",
   "metadata": {
    "id": "tCijq3260q1N"
   },
   "source": [
    "## Ingreso"
   ]
  },
  {
   "cell_type": "code",
   "execution_count": 156,
   "metadata": {
    "id": "0Y1v8ZUz0q1P",
    "scrolled": true
   },
   "outputs": [
    {
     "data": {
      "text/plain": [
       "Text(0, 0.5, 'Ingreso')"
      ]
     },
     "execution_count": 156,
     "metadata": {},
     "output_type": "execute_result"
    },
    {
     "data": {
      "image/png": "[encoded data removed]",
      "text/plain": [
       "<Figure size 640x480 with 1 Axes>"
      ]
     },
     "metadata": {},
     "output_type": "display_data"
    }
   ],
   "source": [
    "sns.boxplot(data=complete_df_plans_clean, x=\"plan\", y=\"revenue\")\n",
    "plt.title(\"Distribución del ingreso mensual por plan\")\n",
    "plt.xlabel(\"Plan\")\n",
    "plt.ylabel(\"Ingreso\")"
   ]
  },
  {
   "cell_type": "markdown",
   "metadata": {},
   "source": [
    "El ingreso para el plan surf es mayor de acuerdo a la media. Esto pueda dar a entender que los beneficios que incluye no son suficientes y por ende, los usuarios terminan pagando de mas cada mes. Esto de puede comprobar por el sesgo hacia la derecha que existe y los datos anomarmales que hay en surf"
   ]
  },
  {
   "cell_type": "markdown",
   "metadata": {
    "id": "ajJ7VKeI0q1Q"
   },
   "source": [
    "## Prueba las hipótesis estadísticas"
   ]
  },
  {
   "cell_type": "markdown",
   "metadata": {
    "id": "AdXAZ-yL0q1Q"
   },
   "source": [
    "c"
   ]
  },
  {
   "cell_type": "markdown",
   "metadata": {},
   "source": [
    "Hipotesis nula: los ingresos promedio de los planes no son diferentes \n",
    "Hipotesis alternativa: los ingresos promedio de los planes son diferentes "
   ]
  },
  {
   "cell_type": "code",
   "execution_count": 125,
   "metadata": {
    "id": "nFoPNlPq0q1R"
   },
   "outputs": [
    {
     "name": "stdout",
     "output_type": "stream",
     "text": [
      "valor p: 1.1667834288194866e-14\n",
      "Rechazamos la hipótesis nula\n"
     ]
    }
   ],
   "source": [
    "# Prueba las hipótesis\n",
    "surf_revenue = complete_df_plans_clean[complete_df_plans_clean[\"plan\"] == \"surf\"][\"revenue\"]\n",
    "ultimate_revenue = complete_df_plans_clean[complete_df_plans_clean[\"plan\"] == \"ultimate\"][\"revenue\"]\n",
    "\n",
    "alpha = 0.05 \n",
    "\n",
    "result = st.ttest_ind(surf_revenue, ultimate_revenue)\n",
    "\n",
    "print('valor p:', result.pvalue)\n",
    "\n",
    "if (result.pvalue < alpha):\n",
    "    print(\"Rechazamos la hipótesis nula\")\n",
    "else:\n",
    "    print(\"No podemos rechazar la hipótesis nula\")\n"
   ]
  },
  {
   "cell_type": "code",
   "execution_count": 155,
   "metadata": {
    "id": "Cqcj7wrZ0q1S"
   },
   "outputs": [
    {
     "name": "stdout",
     "output_type": "stream",
     "text": [
      "valor p: 1.1667834288194866e-14\n",
      "Rechazamos la hipótesis nula\n"
     ]
    }
   ],
   "source": [
    "# Prueba las hipótesis\n",
    "ny_nj_users = complete_df_plans[complete_df_plans[\"city\"].isin([\"NY\", \"NJ\"])][\"revenue\"]\n",
    "other_users = complete_df_plans[~complete_df_plans[\"city\"].isin([\"NY\", \"NJ\"])][\"revenue\"]\n",
    "\n",
    "alpha = 0.05 \n",
    "\n",
    "restult = st.ttest_ind(ny_nj_users, other_users)\n",
    "\n",
    "print('valor p:', result.pvalue)\n",
    "\n",
    "if (result.pvalue < alpha):\n",
    "    print(\"Rechazamos la hipótesis nula\")\n",
    "else:\n",
    "    print(\"No podemos rechazar la hipótesis nula\")\n"
   ]
  },
  {
   "cell_type": "markdown",
   "metadata": {
    "id": "bbTR8UQO0q1T"
   },
   "source": [
    "## Conclusión general\n",
    "\n",
    "[En esta sección final, enumera tus conclusiones importantes. Asegúrate de que estas abarquen todas las decisiones (suposiciones) importantes que adoptaste y que determinaron la forma elegida para procesar y analizar los datos.]"
   ]
  },
  {
   "cell_type": "markdown",
   "metadata": {},
   "source": [
    "Por el momento no se puede rechazar la hipotesis nula debido a que el valor p es menor al 5% "
   ]
  },
  {
   "cell_type": "markdown",
   "metadata": {},
   "source": [
    "Tengo una duda, y tambien es la razon de que no he escrito la conclusion. El hist de revenue cambio, supongo que la razon es porque elimine los Nan del DF. "
   ]
  }
 ],
 "metadata": {
  "ExecuteTimeLog": [
   {
    "duration": 828,
    "start_time": "2021-11-16T09:21:11.304Z"
   },
   {
    "duration": 893,
    "start_time": "2021-11-16T09:21:17.728Z"
   },
   {
    "duration": 1150,
    "start_time": "2021-11-16T09:21:29.568Z"
   },
   {
    "duration": 3,
    "start_time": "2021-11-16T09:24:14.495Z"
   },
   {
    "duration": 120,
    "start_time": "2021-11-16T09:24:46.630Z"
   },
   {
    "duration": 3,
    "start_time": "2021-11-16T09:28:27.882Z"
   },
   {
    "duration": 4,
    "start_time": "2021-11-16T09:29:54.281Z"
   },
   {
    "duration": 3,
    "start_time": "2021-11-16T09:30:45.936Z"
   },
   {
    "duration": 4,
    "start_time": "2021-11-16T09:31:06.300Z"
   },
   {
    "duration": 113,
    "start_time": "2021-11-16T09:31:37.208Z"
   },
   {
    "duration": 143,
    "start_time": "2021-11-16T09:31:48.656Z"
   },
   {
    "duration": 98,
    "start_time": "2021-11-16T09:31:55.678Z"
   },
   {
    "duration": 3,
    "start_time": "2021-11-16T09:32:08.535Z"
   },
   {
    "duration": 111,
    "start_time": "2021-11-16T09:32:10.120Z"
   },
   {
    "duration": 3,
    "start_time": "2021-11-16T09:32:15.732Z"
   },
   {
    "duration": 4,
    "start_time": "2021-11-16T09:32:29.423Z"
   },
   {
    "duration": 3,
    "start_time": "2021-11-16T10:03:03.074Z"
   },
   {
    "duration": 3,
    "start_time": "2021-11-16T10:10:01.288Z"
   },
   {
    "duration": 3,
    "start_time": "2021-11-16T10:10:46.923Z"
   },
   {
    "duration": 121,
    "start_time": "2021-11-16T10:37:46.494Z"
   },
   {
    "duration": 125,
    "start_time": "2021-11-16T10:38:20.632Z"
   },
   {
    "duration": 112,
    "start_time": "2021-11-16T10:46:53.001Z"
   },
   {
    "duration": 110,
    "start_time": "2021-11-16T10:48:25.775Z"
   },
   {
    "duration": 3,
    "start_time": "2021-11-16T10:50:18.720Z"
   },
   {
    "duration": 4,
    "start_time": "2021-11-16T10:50:37.649Z"
   },
   {
    "duration": 2,
    "start_time": "2021-11-16T10:50:51.884Z"
   },
   {
    "duration": 3,
    "start_time": "2021-11-16T10:51:56.237Z"
   },
   {
    "duration": 101,
    "start_time": "2021-11-16T10:53:13.791Z"
   },
   {
    "duration": 3,
    "start_time": "2021-11-16T10:55:59.186Z"
   },
   {
    "duration": 3,
    "start_time": "2021-11-16T10:56:10.751Z"
   },
   {
    "duration": 3,
    "start_time": "2021-11-16T10:56:49.038Z"
   },
   {
    "duration": 3,
    "start_time": "2021-11-16T10:56:49.174Z"
   },
   {
    "duration": 4,
    "start_time": "2021-11-16T10:56:49.414Z"
   },
   {
    "duration": 3,
    "start_time": "2021-11-16T10:56:49.680Z"
   },
   {
    "duration": 3,
    "start_time": "2021-11-16T10:56:50.370Z"
   },
   {
    "duration": 114,
    "start_time": "2021-11-16T10:59:34.518Z"
   },
   {
    "duration": 3,
    "start_time": "2021-11-16T11:01:41.201Z"
   },
   {
    "duration": 116,
    "start_time": "2021-11-16T11:01:48.754Z"
   },
   {
    "duration": 3,
    "start_time": "2021-11-16T11:02:16.685Z"
   },
   {
    "duration": 3,
    "start_time": "2021-11-16T11:02:19.479Z"
   },
   {
    "duration": 3,
    "start_time": "2021-11-16T11:02:47.067Z"
   },
   {
    "duration": 3,
    "start_time": "2021-11-16T11:02:49.353Z"
   },
   {
    "duration": 3,
    "start_time": "2021-11-16T11:03:07.835Z"
   },
   {
    "duration": 3,
    "start_time": "2021-11-16T11:03:07.953Z"
   },
   {
    "duration": 112,
    "start_time": "2021-11-16T11:07:52.072Z"
   },
   {
    "duration": 187,
    "start_time": "2021-11-16T11:09:23.468Z"
   },
   {
    "duration": 4,
    "start_time": "2021-11-16T11:10:01.455Z"
   },
   {
    "duration": 3,
    "start_time": "2021-11-16T11:10:05.069Z"
   },
   {
    "duration": 4,
    "start_time": "2021-11-16T11:10:13.376Z"
   },
   {
    "duration": 3,
    "start_time": "2021-11-16T11:10:14.434Z"
   },
   {
    "duration": 3,
    "start_time": "2021-11-16T11:10:22.853Z"
   },
   {
    "duration": 4,
    "start_time": "2021-11-16T11:27:29.279Z"
   },
   {
    "duration": 4,
    "start_time": "2021-11-16T11:29:08.919Z"
   },
   {
    "duration": 118,
    "start_time": "2021-11-16T11:29:46.703Z"
   },
   {
    "duration": 437,
    "start_time": "2021-11-16T11:36:02.181Z"
   },
   {
    "duration": 157,
    "start_time": "2021-11-16T11:36:14.388Z"
   },
   {
    "duration": 207,
    "start_time": "2021-11-16T11:47:15.898Z"
   },
   {
    "duration": 3,
    "start_time": "2021-11-16T11:53:52.092Z"
   },
   {
    "duration": 3,
    "start_time": "2021-11-16T11:53:52.236Z"
   },
   {
    "duration": 3,
    "start_time": "2021-11-16T11:59:12.005Z"
   },
   {
    "duration": 112,
    "start_time": "2021-11-16T12:00:33.446Z"
   },
   {
    "duration": 3,
    "start_time": "2021-11-16T12:02:14.453Z"
   },
   {
    "duration": 3,
    "start_time": "2021-11-16T12:02:39.512Z"
   },
   {
    "duration": 106,
    "start_time": "2021-11-16T12:03:03.460Z"
   },
   {
    "duration": 3,
    "start_time": "2021-11-17T20:37:21.139Z"
   },
   {
    "duration": 3,
    "start_time": "2021-11-17T20:37:22.229Z"
   },
   {
    "duration": 3,
    "start_time": "2021-11-17T20:38:38.806Z"
   },
   {
    "duration": 3,
    "start_time": "2021-11-17T20:38:41.958Z"
   },
   {
    "duration": 3,
    "start_time": "2021-11-17T20:43:46.551Z"
   },
   {
    "duration": 4,
    "start_time": "2021-11-17T20:58:21.835Z"
   },
   {
    "duration": 3,
    "start_time": "2021-11-17T20:59:21.872Z"
   },
   {
    "duration": 4,
    "start_time": "2021-11-17T20:59:45.352Z"
   },
   {
    "duration": 4,
    "start_time": "2021-11-17T20:59:49.646Z"
   },
   {
    "duration": 159,
    "start_time": "2021-11-17T21:02:26.949Z"
   },
   {
    "duration": 3,
    "start_time": "2021-11-17T21:03:53.461Z"
   },
   {
    "duration": 3,
    "start_time": "2021-11-17T21:03:53.694Z"
   },
   {
    "duration": 3,
    "start_time": "2021-11-17T21:05:28.145Z"
   },
   {
    "duration": 116,
    "start_time": "2021-11-17T21:05:57.787Z"
   },
   {
    "duration": 3,
    "start_time": "2021-11-17T21:06:37.993Z"
   },
   {
    "duration": 3,
    "start_time": "2021-11-17T21:06:38.261Z"
   },
   {
    "duration": 3,
    "start_time": "2021-11-17T21:11:54.358Z"
   },
   {
    "duration": 3,
    "start_time": "2021-11-17T21:12:43.846Z"
   },
   {
    "duration": 4,
    "start_time": "2021-11-17T21:13:08.773Z"
   },
   {
    "duration": 3,
    "start_time": "2021-11-17T21:14:44.441Z"
   },
   {
    "duration": 3,
    "start_time": "2021-11-17T21:15:42.059Z"
   },
   {
    "duration": 4,
    "start_time": "2021-11-17T21:15:51.995Z"
   },
   {
    "duration": 3,
    "start_time": "2021-11-17T21:15:53.923Z"
   },
   {
    "duration": 3,
    "start_time": "2021-11-17T21:15:55.282Z"
   },
   {
    "duration": 3,
    "start_time": "2021-11-17T21:16:28.492Z"
   },
   {
    "duration": 3,
    "start_time": "2021-11-17T21:16:32.603Z"
   },
   {
    "duration": 3,
    "start_time": "2021-11-17T21:17:06.941Z"
   },
   {
    "duration": 98,
    "start_time": "2021-11-17T21:18:05.733Z"
   },
   {
    "duration": 4,
    "start_time": "2021-11-17T21:21:35.255Z"
   },
   {
    "duration": 3,
    "start_time": "2021-11-17T21:21:37.804Z"
   },
   {
    "duration": 4,
    "start_time": "2021-11-17T21:23:06.071Z"
   },
   {
    "duration": 3,
    "start_time": "2021-11-17T21:23:24.799Z"
   },
   {
    "duration": 3,
    "start_time": "2021-11-17T21:23:32.591Z"
   },
   {
    "duration": 98,
    "start_time": "2021-11-17T21:28:31.559Z"
   },
   {
    "duration": 3,
    "start_time": "2021-11-17T21:28:45.448Z"
   },
   {
    "duration": 3,
    "start_time": "2021-11-17T21:29:17.303Z"
   },
   {
    "duration": 3,
    "start_time": "2021-11-17T21:29:29.617Z"
   },
   {
    "duration": 3,
    "start_time": "2021-11-17T21:29:32.681Z"
   },
   {
    "duration": 3,
    "start_time": "2021-11-17T21:36:11.474Z"
   },
   {
    "duration": 3,
    "start_time": "2021-11-17T21:36:14.791Z"
   },
   {
    "duration": 3,
    "start_time": "2021-11-17T21:36:53.943Z"
   },
   {
    "duration": 3,
    "start_time": "2021-11-17T21:36:56.165Z"
   },
   {
    "duration": 4,
    "start_time": "2021-11-17T21:37:16.590Z"
   },
   {
    "duration": 3,
    "start_time": "2021-11-17T21:37:22.702Z"
   },
   {
    "duration": 4,
    "start_time": "2021-11-17T21:38:03.479Z"
   },
   {
    "duration": 3,
    "start_time": "2021-11-17T21:38:08.601Z"
   },
   {
    "duration": 3,
    "start_time": "2021-11-17T21:38:12.928Z"
   },
   {
    "duration": 3,
    "start_time": "2021-11-17T21:38:48.896Z"
   },
   {
    "duration": 2,
    "start_time": "2021-11-17T21:38:49.171Z"
   },
   {
    "duration": 4,
    "start_time": "2021-11-17T21:39:57.889Z"
   },
   {
    "duration": 3,
    "start_time": "2021-11-17T21:39:58.057Z"
   },
   {
    "duration": 3,
    "start_time": "2021-11-17T21:41:20.108Z"
   },
   {
    "duration": 3,
    "start_time": "2021-11-17T21:41:20.629Z"
   },
   {
    "duration": 3,
    "start_time": "2021-11-17T21:42:49.136Z"
   },
   {
    "duration": 3,
    "start_time": "2021-11-17T21:43:15.137Z"
   },
   {
    "duration": 4,
    "start_time": "2021-11-17T21:43:16.766Z"
   },
   {
    "duration": 4,
    "start_time": "2021-11-17T21:43:31.711Z"
   },
   {
    "duration": 3,
    "start_time": "2021-11-17T21:43:36.312Z"
   },
   {
    "duration": 4,
    "start_time": "2021-11-17T21:45:08.825Z"
   },
   {
    "duration": 4,
    "start_time": "2021-11-17T21:45:10.119Z"
   },
   {
    "duration": 4,
    "start_time": "2021-11-17T21:45:13.748Z"
   },
   {
    "duration": 3,
    "start_time": "2021-11-17T21:45:22.219Z"
   },
   {
    "duration": 3,
    "start_time": "2021-11-17T21:45:33.412Z"
   },
   {
    "duration": 2,
    "start_time": "2021-11-17T21:46:01.885Z"
   },
   {
    "duration": 3,
    "start_time": "2021-11-17T21:46:03.628Z"
   },
   {
    "duration": 107,
    "start_time": "2021-11-17T21:47:32.512Z"
   },
   {
    "duration": 103,
    "start_time": "2021-11-17T21:50:36.243Z"
   },
   {
    "duration": 3,
    "start_time": "2021-11-18T06:28:31.440Z"
   },
   {
    "duration": 3,
    "start_time": "2021-11-18T06:29:00.168Z"
   },
   {
    "duration": 3,
    "start_time": "2021-11-18T06:31:27.008Z"
   },
   {
    "duration": 2,
    "start_time": "2021-11-18T06:35:34.288Z"
   },
   {
    "duration": 2,
    "start_time": "2021-11-18T06:38:04.527Z"
   },
   {
    "duration": 2,
    "start_time": "2025-01-31T01:32:13.195Z"
   },
   {
    "duration": 240,
    "start_time": "2025-01-31T01:33:17.726Z"
   },
   {
    "duration": 13,
    "start_time": "2025-01-31T01:33:41.738Z"
   },
   {
    "duration": 4,
    "start_time": "2025-01-31T01:34:23.588Z"
   },
   {
    "duration": 233,
    "start_time": "2025-01-31T01:34:42.661Z"
   },
   {
    "duration": 7,
    "start_time": "2025-01-31T01:34:46.719Z"
   },
   {
    "duration": 7,
    "start_time": "2025-01-31T01:35:07.990Z"
   },
   {
    "duration": 17,
    "start_time": "2025-01-31T01:37:03.840Z"
   },
   {
    "duration": 22,
    "start_time": "2025-01-31T01:37:17.496Z"
   },
   {
    "duration": 14,
    "start_time": "2025-01-31T01:37:54.354Z"
   },
   {
    "duration": 12,
    "start_time": "2025-01-31T01:41:14.989Z"
   },
   {
    "duration": 10,
    "start_time": "2025-01-31T01:41:46.762Z"
   },
   {
    "duration": 10,
    "start_time": "2025-01-31T01:42:06.009Z"
   },
   {
    "duration": 9,
    "start_time": "2025-01-31T01:43:10.656Z"
   },
   {
    "duration": 6,
    "start_time": "2025-01-31T01:43:23.019Z"
   },
   {
    "duration": 8,
    "start_time": "2025-01-31T01:43:40.198Z"
   },
   {
    "duration": 5,
    "start_time": "2025-01-31T01:44:01.235Z"
   },
   {
    "duration": 7,
    "start_time": "2025-01-31T01:51:55.254Z"
   },
   {
    "duration": 25,
    "start_time": "2025-01-31T01:52:17.693Z"
   },
   {
    "duration": 9,
    "start_time": "2025-01-31T01:52:27.658Z"
   },
   {
    "duration": 6,
    "start_time": "2025-01-31T01:52:47.117Z"
   },
   {
    "duration": 5,
    "start_time": "2025-01-31T01:54:28.725Z"
   },
   {
    "duration": 6,
    "start_time": "2025-01-31T01:56:10.945Z"
   },
   {
    "duration": 9,
    "start_time": "2025-01-31T01:59:08.798Z"
   },
   {
    "duration": 10,
    "start_time": "2025-01-31T01:59:28.635Z"
   },
   {
    "duration": 6,
    "start_time": "2025-01-31T01:59:43.547Z"
   },
   {
    "duration": 3,
    "start_time": "2025-01-31T02:07:42.031Z"
   },
   {
    "duration": 4,
    "start_time": "2025-01-31T02:12:36.010Z"
   },
   {
    "duration": 21,
    "start_time": "2025-01-31T02:16:27.504Z"
   },
   {
    "duration": 6,
    "start_time": "2025-01-31T02:17:15.008Z"
   },
   {
    "duration": 20,
    "start_time": "2025-01-31T02:23:16.898Z"
   },
   {
    "duration": 75,
    "start_time": "2025-01-31T02:24:31.306Z"
   },
   {
    "duration": 660,
    "start_time": "2025-02-05T01:19:50.811Z"
   },
   {
    "duration": 244,
    "start_time": "2025-02-05T01:19:51.473Z"
   },
   {
    "duration": 20,
    "start_time": "2025-02-05T01:19:51.719Z"
   },
   {
    "duration": 15,
    "start_time": "2025-02-05T01:19:51.741Z"
   },
   {
    "duration": 13,
    "start_time": "2025-02-05T01:19:51.758Z"
   },
   {
    "duration": 13,
    "start_time": "2025-02-05T01:19:51.774Z"
   },
   {
    "duration": 8,
    "start_time": "2025-02-05T01:19:51.789Z"
   },
   {
    "duration": 35,
    "start_time": "2025-02-05T01:19:51.799Z"
   },
   {
    "duration": 6,
    "start_time": "2025-02-05T01:19:51.835Z"
   },
   {
    "duration": 7,
    "start_time": "2025-02-05T01:19:51.845Z"
   },
   {
    "duration": 9,
    "start_time": "2025-02-05T01:19:51.854Z"
   },
   {
    "duration": 6,
    "start_time": "2025-02-05T01:19:51.865Z"
   },
   {
    "duration": 5,
    "start_time": "2025-02-05T01:19:51.873Z"
   },
   {
    "duration": 62,
    "start_time": "2025-02-05T01:19:51.880Z"
   },
   {
    "duration": 6,
    "start_time": "2025-02-05T01:19:51.944Z"
   },
   {
    "duration": 96,
    "start_time": "2025-02-05T01:19:51.953Z"
   },
   {
    "duration": 2,
    "start_time": "2025-02-05T01:19:52.051Z"
   },
   {
    "duration": 3,
    "start_time": "2025-02-05T01:19:52.055Z"
   },
   {
    "duration": 3,
    "start_time": "2025-02-05T01:19:52.060Z"
   },
   {
    "duration": 3,
    "start_time": "2025-02-05T01:19:52.065Z"
   },
   {
    "duration": 4,
    "start_time": "2025-02-05T01:19:52.070Z"
   },
   {
    "duration": 3,
    "start_time": "2025-02-05T01:19:52.076Z"
   },
   {
    "duration": 3,
    "start_time": "2025-02-05T01:19:52.081Z"
   },
   {
    "duration": 4,
    "start_time": "2025-02-05T01:19:52.085Z"
   },
   {
    "duration": 34,
    "start_time": "2025-02-05T01:19:52.090Z"
   },
   {
    "duration": 2,
    "start_time": "2025-02-05T01:19:52.127Z"
   },
   {
    "duration": 3,
    "start_time": "2025-02-05T01:19:52.131Z"
   },
   {
    "duration": 2,
    "start_time": "2025-02-05T01:19:52.139Z"
   },
   {
    "duration": 4,
    "start_time": "2025-02-05T01:19:52.144Z"
   },
   {
    "duration": 4,
    "start_time": "2025-02-05T01:19:52.152Z"
   },
   {
    "duration": 2,
    "start_time": "2025-02-05T01:19:52.158Z"
   },
   {
    "duration": 3,
    "start_time": "2025-02-05T01:19:52.162Z"
   },
   {
    "duration": 3,
    "start_time": "2025-02-05T01:19:52.167Z"
   },
   {
    "duration": 3,
    "start_time": "2025-02-05T01:19:52.172Z"
   },
   {
    "duration": 3,
    "start_time": "2025-02-05T01:19:52.177Z"
   },
   {
    "duration": 43,
    "start_time": "2025-02-05T01:19:52.182Z"
   },
   {
    "duration": 4,
    "start_time": "2025-02-05T01:20:42.676Z"
   },
   {
    "duration": 10,
    "start_time": "2025-02-05T01:21:07.479Z"
   },
   {
    "duration": 12,
    "start_time": "2025-02-05T01:21:42.752Z"
   },
   {
    "duration": 5,
    "start_time": "2025-02-05T01:21:59.546Z"
   },
   {
    "duration": 10,
    "start_time": "2025-02-05T01:23:59.650Z"
   },
   {
    "duration": 14,
    "start_time": "2025-02-05T01:25:16.032Z"
   },
   {
    "duration": 5,
    "start_time": "2025-02-05T01:25:28.577Z"
   },
   {
    "duration": 13,
    "start_time": "2025-02-05T01:27:07.810Z"
   },
   {
    "duration": 5,
    "start_time": "2025-02-05T01:28:06.202Z"
   },
   {
    "duration": 307,
    "start_time": "2025-02-05T01:39:08.861Z"
   },
   {
    "duration": 19,
    "start_time": "2025-02-05T01:40:28.625Z"
   },
   {
    "duration": 26,
    "start_time": "2025-02-05T01:41:40.107Z"
   },
   {
    "duration": 7,
    "start_time": "2025-02-05T01:46:48.761Z"
   },
   {
    "duration": 4,
    "start_time": "2025-02-05T01:47:32.446Z"
   },
   {
    "duration": 12,
    "start_time": "2025-02-05T01:48:02.375Z"
   },
   {
    "duration": 9,
    "start_time": "2025-02-05T01:48:11.464Z"
   },
   {
    "duration": 9,
    "start_time": "2025-02-05T01:48:20.808Z"
   },
   {
    "duration": 26,
    "start_time": "2025-02-05T01:48:28.629Z"
   },
   {
    "duration": 20,
    "start_time": "2025-02-05T01:52:25.675Z"
   },
   {
    "duration": 24,
    "start_time": "2025-02-05T01:56:48.899Z"
   },
   {
    "duration": 19,
    "start_time": "2025-02-05T01:57:06.033Z"
   },
   {
    "duration": 34,
    "start_time": "2025-02-05T01:59:34.211Z"
   },
   {
    "duration": 25,
    "start_time": "2025-02-05T02:00:08.966Z"
   },
   {
    "duration": 14,
    "start_time": "2025-02-05T02:07:48.225Z"
   },
   {
    "duration": 24,
    "start_time": "2025-02-05T02:14:35.966Z"
   },
   {
    "duration": 16,
    "start_time": "2025-02-05T02:14:43.659Z"
   },
   {
    "duration": 470,
    "start_time": "2025-02-05T02:22:21.774Z"
   },
   {
    "duration": 3,
    "start_time": "2025-02-05T02:24:14.358Z"
   },
   {
    "duration": 280,
    "start_time": "2025-02-05T02:27:30.430Z"
   },
   {
    "duration": 3,
    "start_time": "2025-02-05T02:29:08.143Z"
   },
   {
    "duration": 3,
    "start_time": "2025-02-05T02:29:25.831Z"
   },
   {
    "duration": 3,
    "start_time": "2025-02-05T02:29:56.567Z"
   },
   {
    "duration": 43,
    "start_time": "2025-02-05T02:29:59.949Z"
   },
   {
    "duration": 3,
    "start_time": "2025-02-05T02:30:22.390Z"
   },
   {
    "duration": 50,
    "start_time": "2025-02-05T02:30:31.605Z"
   },
   {
    "duration": 60,
    "start_time": "2025-02-05T02:30:56.369Z"
   },
   {
    "duration": 4,
    "start_time": "2025-02-05T02:31:26.514Z"
   },
   {
    "duration": 44,
    "start_time": "2025-02-05T02:31:30.199Z"
   },
   {
    "duration": 47,
    "start_time": "2025-02-05T02:36:28.180Z"
   },
   {
    "duration": 4,
    "start_time": "2025-02-05T02:36:56.900Z"
   },
   {
    "duration": 685,
    "start_time": "2025-02-06T01:11:29.224Z"
   },
   {
    "duration": 204,
    "start_time": "2025-02-06T01:11:29.911Z"
   },
   {
    "duration": 18,
    "start_time": "2025-02-06T01:11:30.117Z"
   },
   {
    "duration": 15,
    "start_time": "2025-02-06T01:11:30.138Z"
   },
   {
    "duration": 13,
    "start_time": "2025-02-06T01:11:30.155Z"
   },
   {
    "duration": 12,
    "start_time": "2025-02-06T01:11:30.186Z"
   },
   {
    "duration": 9,
    "start_time": "2025-02-06T01:11:30.200Z"
   },
   {
    "duration": 10,
    "start_time": "2025-02-06T01:11:30.211Z"
   },
   {
    "duration": 5,
    "start_time": "2025-02-06T01:11:30.222Z"
   },
   {
    "duration": 6,
    "start_time": "2025-02-06T01:11:30.231Z"
   },
   {
    "duration": 8,
    "start_time": "2025-02-06T01:11:30.239Z"
   },
   {
    "duration": 6,
    "start_time": "2025-02-06T01:11:30.287Z"
   },
   {
    "duration": 408,
    "start_time": "2025-02-06T01:11:30.295Z"
   },
   {
    "duration": 0,
    "start_time": "2025-02-06T01:11:30.705Z"
   },
   {
    "duration": 0,
    "start_time": "2025-02-06T01:11:30.706Z"
   },
   {
    "duration": 0,
    "start_time": "2025-02-06T01:11:30.707Z"
   },
   {
    "duration": 0,
    "start_time": "2025-02-06T01:11:30.710Z"
   },
   {
    "duration": 0,
    "start_time": "2025-02-06T01:11:30.712Z"
   },
   {
    "duration": 0,
    "start_time": "2025-02-06T01:11:30.714Z"
   },
   {
    "duration": 0,
    "start_time": "2025-02-06T01:11:30.715Z"
   },
   {
    "duration": 0,
    "start_time": "2025-02-06T01:11:30.716Z"
   },
   {
    "duration": 0,
    "start_time": "2025-02-06T01:11:30.717Z"
   },
   {
    "duration": 0,
    "start_time": "2025-02-06T01:11:30.718Z"
   },
   {
    "duration": 0,
    "start_time": "2025-02-06T01:11:30.719Z"
   },
   {
    "duration": 0,
    "start_time": "2025-02-06T01:11:30.720Z"
   },
   {
    "duration": 0,
    "start_time": "2025-02-06T01:11:30.721Z"
   },
   {
    "duration": 0,
    "start_time": "2025-02-06T01:11:30.722Z"
   },
   {
    "duration": 0,
    "start_time": "2025-02-06T01:11:30.723Z"
   },
   {
    "duration": 0,
    "start_time": "2025-02-06T01:11:30.724Z"
   },
   {
    "duration": 0,
    "start_time": "2025-02-06T01:11:30.725Z"
   },
   {
    "duration": 0,
    "start_time": "2025-02-06T01:11:30.726Z"
   },
   {
    "duration": 3,
    "start_time": "2025-02-06T01:11:37.567Z"
   },
   {
    "duration": 13,
    "start_time": "2025-02-06T01:11:38.989Z"
   },
   {
    "duration": 2,
    "start_time": "2025-02-06T01:11:47.146Z"
   },
   {
    "duration": 166,
    "start_time": "2025-02-06T01:11:47.150Z"
   },
   {
    "duration": 16,
    "start_time": "2025-02-06T01:11:47.318Z"
   },
   {
    "duration": 12,
    "start_time": "2025-02-06T01:11:47.336Z"
   },
   {
    "duration": 12,
    "start_time": "2025-02-06T01:11:47.350Z"
   },
   {
    "duration": 31,
    "start_time": "2025-02-06T01:11:47.363Z"
   },
   {
    "duration": 8,
    "start_time": "2025-02-06T01:11:47.396Z"
   },
   {
    "duration": 8,
    "start_time": "2025-02-06T01:11:47.406Z"
   },
   {
    "duration": 6,
    "start_time": "2025-02-06T01:11:47.415Z"
   },
   {
    "duration": 6,
    "start_time": "2025-02-06T01:11:47.422Z"
   },
   {
    "duration": 7,
    "start_time": "2025-02-06T01:11:47.431Z"
   },
   {
    "duration": 5,
    "start_time": "2025-02-06T01:11:47.440Z"
   },
   {
    "duration": 119,
    "start_time": "2025-02-06T01:11:47.446Z"
   },
   {
    "duration": 0,
    "start_time": "2025-02-06T01:11:47.567Z"
   },
   {
    "duration": 0,
    "start_time": "2025-02-06T01:11:47.569Z"
   },
   {
    "duration": 0,
    "start_time": "2025-02-06T01:11:47.570Z"
   },
   {
    "duration": 0,
    "start_time": "2025-02-06T01:11:47.586Z"
   },
   {
    "duration": 0,
    "start_time": "2025-02-06T01:11:47.588Z"
   },
   {
    "duration": 0,
    "start_time": "2025-02-06T01:11:47.590Z"
   },
   {
    "duration": 0,
    "start_time": "2025-02-06T01:11:47.591Z"
   },
   {
    "duration": 0,
    "start_time": "2025-02-06T01:11:47.593Z"
   },
   {
    "duration": 0,
    "start_time": "2025-02-06T01:11:47.595Z"
   },
   {
    "duration": 0,
    "start_time": "2025-02-06T01:11:47.596Z"
   },
   {
    "duration": 0,
    "start_time": "2025-02-06T01:11:47.598Z"
   },
   {
    "duration": 0,
    "start_time": "2025-02-06T01:11:47.599Z"
   },
   {
    "duration": 0,
    "start_time": "2025-02-06T01:11:47.600Z"
   },
   {
    "duration": 0,
    "start_time": "2025-02-06T01:11:47.601Z"
   },
   {
    "duration": 14,
    "start_time": "2025-02-06T01:11:50.650Z"
   },
   {
    "duration": 162,
    "start_time": "2025-02-06T01:12:01.751Z"
   },
   {
    "duration": 17,
    "start_time": "2025-02-06T01:12:02.873Z"
   },
   {
    "duration": 14,
    "start_time": "2025-02-06T01:12:03.320Z"
   },
   {
    "duration": 13,
    "start_time": "2025-02-06T01:12:03.795Z"
   },
   {
    "duration": 10,
    "start_time": "2025-02-06T01:12:04.260Z"
   },
   {
    "duration": 9,
    "start_time": "2025-02-06T01:12:04.682Z"
   },
   {
    "duration": 11,
    "start_time": "2025-02-06T01:12:06.451Z"
   },
   {
    "duration": 5,
    "start_time": "2025-02-06T01:12:06.973Z"
   },
   {
    "duration": 4,
    "start_time": "2025-02-06T01:12:07.506Z"
   },
   {
    "duration": 8,
    "start_time": "2025-02-06T01:12:11.823Z"
   },
   {
    "duration": 6,
    "start_time": "2025-02-06T01:12:12.273Z"
   },
   {
    "duration": 72,
    "start_time": "2025-02-06T01:12:14.741Z"
   },
   {
    "duration": 76,
    "start_time": "2025-02-06T01:12:37.622Z"
   },
   {
    "duration": 6,
    "start_time": "2025-02-06T01:14:07.955Z"
   },
   {
    "duration": 15,
    "start_time": "2025-02-06T01:14:12.676Z"
   },
   {
    "duration": 5,
    "start_time": "2025-02-06T01:14:13.521Z"
   },
   {
    "duration": 95,
    "start_time": "2025-02-06T01:14:17.651Z"
   },
   {
    "duration": 14,
    "start_time": "2025-02-06T01:14:31.240Z"
   },
   {
    "duration": 12,
    "start_time": "2025-02-06T01:14:34.984Z"
   },
   {
    "duration": 5,
    "start_time": "2025-02-06T01:14:35.653Z"
   },
   {
    "duration": 78,
    "start_time": "2025-02-06T01:14:41.462Z"
   },
   {
    "duration": 77,
    "start_time": "2025-02-06T01:15:04.544Z"
   },
   {
    "duration": 10,
    "start_time": "2025-02-06T01:15:10.833Z"
   },
   {
    "duration": 15,
    "start_time": "2025-02-06T01:15:14.910Z"
   },
   {
    "duration": 6,
    "start_time": "2025-02-06T01:15:15.575Z"
   },
   {
    "duration": 80,
    "start_time": "2025-02-06T01:15:19.188Z"
   },
   {
    "duration": 19,
    "start_time": "2025-02-06T01:15:36.313Z"
   },
   {
    "duration": 5,
    "start_time": "2025-02-06T01:15:40.368Z"
   },
   {
    "duration": 17,
    "start_time": "2025-02-06T01:15:42.022Z"
   },
   {
    "duration": 12,
    "start_time": "2025-02-06T01:15:44.091Z"
   },
   {
    "duration": 14,
    "start_time": "2025-02-06T01:15:46.208Z"
   },
   {
    "duration": 15,
    "start_time": "2025-02-06T01:15:46.896Z"
   },
   {
    "duration": 3,
    "start_time": "2025-02-06T01:15:48.426Z"
   },
   {
    "duration": 4,
    "start_time": "2025-02-06T01:15:54.870Z"
   },
   {
    "duration": 3,
    "start_time": "2025-02-06T01:15:57.491Z"
   },
   {
    "duration": 3,
    "start_time": "2025-02-06T01:16:01.373Z"
   },
   {
    "duration": 3,
    "start_time": "2025-02-06T01:16:02.114Z"
   },
   {
    "duration": 18,
    "start_time": "2025-02-06T01:16:03.691Z"
   },
   {
    "duration": 18,
    "start_time": "2025-02-06T01:16:14.102Z"
   },
   {
    "duration": 98,
    "start_time": "2025-02-06T01:17:18.136Z"
   },
   {
    "duration": 24,
    "start_time": "2025-02-06T01:22:49.972Z"
   },
   {
    "duration": 10,
    "start_time": "2025-02-06T01:23:21.850Z"
   },
   {
    "duration": 109,
    "start_time": "2025-02-06T01:24:15.832Z"
   },
   {
    "duration": 9,
    "start_time": "2025-02-06T01:24:50.503Z"
   },
   {
    "duration": 468,
    "start_time": "2025-02-06T01:43:44.673Z"
   },
   {
    "duration": 48,
    "start_time": "2025-02-06T01:44:05.770Z"
   },
   {
    "duration": 113,
    "start_time": "2025-02-06T01:54:54.900Z"
   },
   {
    "duration": 127,
    "start_time": "2025-02-06T01:58:22.187Z"
   },
   {
    "duration": 35,
    "start_time": "2025-02-06T01:58:51.279Z"
   },
   {
    "duration": 2003,
    "start_time": "2025-02-06T02:01:12.941Z"
   },
   {
    "duration": 53,
    "start_time": "2025-02-06T02:05:08.760Z"
   },
   {
    "duration": 7,
    "start_time": "2025-02-06T02:05:32.487Z"
   },
   {
    "duration": 243,
    "start_time": "2025-02-06T02:10:37.784Z"
   },
   {
    "duration": 63,
    "start_time": "2025-02-06T02:12:46.108Z"
   },
   {
    "duration": 69,
    "start_time": "2025-02-06T02:16:31.376Z"
   },
   {
    "duration": 8,
    "start_time": "2025-02-06T02:17:58.099Z"
   },
   {
    "duration": 26,
    "start_time": "2025-02-06T02:18:51.998Z"
   },
   {
    "duration": 75,
    "start_time": "2025-02-06T02:18:56.531Z"
   },
   {
    "duration": 86,
    "start_time": "2025-02-06T02:29:01.456Z"
   },
   {
    "duration": 2586,
    "start_time": "2025-02-07T01:16:40.351Z"
   },
   {
    "duration": 222,
    "start_time": "2025-02-07T01:16:42.939Z"
   },
   {
    "duration": 16,
    "start_time": "2025-02-07T01:16:43.163Z"
   },
   {
    "duration": 13,
    "start_time": "2025-02-07T01:16:43.181Z"
   },
   {
    "duration": 12,
    "start_time": "2025-02-07T01:16:43.195Z"
   },
   {
    "duration": 10,
    "start_time": "2025-02-07T01:16:43.209Z"
   },
   {
    "duration": 26,
    "start_time": "2025-02-07T01:16:43.222Z"
   },
   {
    "duration": 8,
    "start_time": "2025-02-07T01:16:43.249Z"
   },
   {
    "duration": 6,
    "start_time": "2025-02-07T01:16:43.258Z"
   },
   {
    "duration": 6,
    "start_time": "2025-02-07T01:16:43.267Z"
   },
   {
    "duration": 8,
    "start_time": "2025-02-07T01:16:43.274Z"
   },
   {
    "duration": 5,
    "start_time": "2025-02-07T01:16:43.283Z"
   },
   {
    "duration": 4,
    "start_time": "2025-02-07T01:16:43.290Z"
   },
   {
    "duration": 52,
    "start_time": "2025-02-07T01:16:43.295Z"
   },
   {
    "duration": 4,
    "start_time": "2025-02-07T01:16:43.349Z"
   },
   {
    "duration": 17,
    "start_time": "2025-02-07T01:16:43.355Z"
   },
   {
    "duration": 12,
    "start_time": "2025-02-07T01:16:43.373Z"
   },
   {
    "duration": 4,
    "start_time": "2025-02-07T01:16:43.387Z"
   },
   {
    "duration": 9,
    "start_time": "2025-02-07T01:16:43.394Z"
   },
   {
    "duration": 42,
    "start_time": "2025-02-07T01:16:43.405Z"
   },
   {
    "duration": 4,
    "start_time": "2025-02-07T01:16:43.449Z"
   },
   {
    "duration": 14,
    "start_time": "2025-02-07T01:16:43.455Z"
   },
   {
    "duration": 4,
    "start_time": "2025-02-07T01:16:43.471Z"
   },
   {
    "duration": 19,
    "start_time": "2025-02-07T01:16:43.477Z"
   },
   {
    "duration": 12,
    "start_time": "2025-02-07T01:16:43.498Z"
   },
   {
    "duration": 14,
    "start_time": "2025-02-07T01:16:43.543Z"
   },
   {
    "duration": 14,
    "start_time": "2025-02-07T01:16:43.558Z"
   },
   {
    "duration": 4,
    "start_time": "2025-02-07T01:16:43.575Z"
   },
   {
    "duration": 4,
    "start_time": "2025-02-07T01:16:43.580Z"
   },
   {
    "duration": 3,
    "start_time": "2025-02-07T01:16:43.585Z"
   },
   {
    "duration": 3,
    "start_time": "2025-02-07T01:16:43.590Z"
   },
   {
    "duration": 114,
    "start_time": "2025-02-07T01:16:43.595Z"
   },
   {
    "duration": 9,
    "start_time": "2025-02-07T01:16:43.711Z"
   },
   {
    "duration": 112,
    "start_time": "2025-02-07T01:16:43.721Z"
   },
   {
    "duration": 9,
    "start_time": "2025-02-07T01:16:43.834Z"
   },
   {
    "duration": 106,
    "start_time": "2025-02-07T01:16:43.845Z"
   },
   {
    "duration": 80,
    "start_time": "2025-02-07T01:16:43.952Z"
   },
   {
    "duration": 33,
    "start_time": "2025-02-07T01:16:44.044Z"
   },
   {
    "duration": 565,
    "start_time": "2025-02-07T01:16:44.079Z"
   },
   {
    "duration": 0,
    "start_time": "2025-02-07T01:16:44.646Z"
   },
   {
    "duration": 0,
    "start_time": "2025-02-07T01:16:44.647Z"
   },
   {
    "duration": 0,
    "start_time": "2025-02-07T01:16:44.648Z"
   },
   {
    "duration": 0,
    "start_time": "2025-02-07T01:16:44.649Z"
   },
   {
    "duration": 0,
    "start_time": "2025-02-07T01:16:44.650Z"
   },
   {
    "duration": 0,
    "start_time": "2025-02-07T01:16:44.651Z"
   },
   {
    "duration": 0,
    "start_time": "2025-02-07T01:16:44.652Z"
   },
   {
    "duration": 68,
    "start_time": "2025-02-07T01:40:34.142Z"
   },
   {
    "duration": 338,
    "start_time": "2025-02-07T01:41:20.781Z"
   },
   {
    "duration": 5,
    "start_time": "2025-02-07T01:41:30.809Z"
   },
   {
    "duration": 38,
    "start_time": "2025-02-07T01:41:42.176Z"
   },
   {
    "duration": 51,
    "start_time": "2025-02-07T01:48:56.902Z"
   },
   {
    "duration": 42,
    "start_time": "2025-02-07T01:49:05.498Z"
   },
   {
    "duration": 41,
    "start_time": "2025-02-07T01:52:23.254Z"
   },
   {
    "duration": 390,
    "start_time": "2025-02-07T01:56:08.102Z"
   },
   {
    "duration": 487,
    "start_time": "2025-02-07T02:06:01.322Z"
   },
   {
    "duration": 390,
    "start_time": "2025-02-07T02:08:09.873Z"
   },
   {
    "duration": 204,
    "start_time": "2025-02-07T02:20:43.456Z"
   },
   {
    "duration": 114,
    "start_time": "2025-02-07T02:27:09.335Z"
   },
   {
    "duration": 120,
    "start_time": "2025-02-07T02:27:30.415Z"
   },
   {
    "duration": 794,
    "start_time": "2025-02-07T16:31:59.065Z"
   },
   {
    "duration": 161,
    "start_time": "2025-02-07T16:31:59.862Z"
   },
   {
    "duration": 16,
    "start_time": "2025-02-07T16:32:00.025Z"
   },
   {
    "duration": 13,
    "start_time": "2025-02-07T16:32:00.043Z"
   },
   {
    "duration": 11,
    "start_time": "2025-02-07T16:32:00.058Z"
   },
   {
    "duration": 24,
    "start_time": "2025-02-07T16:32:00.071Z"
   },
   {
    "duration": 8,
    "start_time": "2025-02-07T16:32:00.097Z"
   },
   {
    "duration": 7,
    "start_time": "2025-02-07T16:32:00.107Z"
   },
   {
    "duration": 5,
    "start_time": "2025-02-07T16:32:00.115Z"
   },
   {
    "duration": 5,
    "start_time": "2025-02-07T16:32:00.123Z"
   },
   {
    "duration": 8,
    "start_time": "2025-02-07T16:32:00.129Z"
   },
   {
    "duration": 6,
    "start_time": "2025-02-07T16:32:00.138Z"
   },
   {
    "duration": 44,
    "start_time": "2025-02-07T16:32:00.145Z"
   },
   {
    "duration": 18,
    "start_time": "2025-02-07T16:32:00.190Z"
   },
   {
    "duration": 5,
    "start_time": "2025-02-07T16:32:00.209Z"
   },
   {
    "duration": 16,
    "start_time": "2025-02-07T16:32:00.216Z"
   },
   {
    "duration": 11,
    "start_time": "2025-02-07T16:32:00.234Z"
   },
   {
    "duration": 5,
    "start_time": "2025-02-07T16:32:00.247Z"
   },
   {
    "duration": 42,
    "start_time": "2025-02-07T16:32:00.253Z"
   },
   {
    "duration": 13,
    "start_time": "2025-02-07T16:32:00.296Z"
   },
   {
    "duration": 4,
    "start_time": "2025-02-07T16:32:00.311Z"
   },
   {
    "duration": 13,
    "start_time": "2025-02-07T16:32:00.317Z"
   },
   {
    "duration": 4,
    "start_time": "2025-02-07T16:32:00.331Z"
   },
   {
    "duration": 18,
    "start_time": "2025-02-07T16:32:00.337Z"
   },
   {
    "duration": 42,
    "start_time": "2025-02-07T16:32:00.357Z"
   },
   {
    "duration": 14,
    "start_time": "2025-02-07T16:32:00.401Z"
   },
   {
    "duration": 15,
    "start_time": "2025-02-07T16:32:00.417Z"
   },
   {
    "duration": 4,
    "start_time": "2025-02-07T16:32:00.435Z"
   },
   {
    "duration": 4,
    "start_time": "2025-02-07T16:32:00.440Z"
   },
   {
    "duration": 3,
    "start_time": "2025-02-07T16:32:00.446Z"
   },
   {
    "duration": 37,
    "start_time": "2025-02-07T16:32:00.450Z"
   },
   {
    "duration": 77,
    "start_time": "2025-02-07T16:32:00.489Z"
   },
   {
    "duration": 22,
    "start_time": "2025-02-07T16:32:00.568Z"
   },
   {
    "duration": 202,
    "start_time": "2025-02-07T16:32:00.592Z"
   },
   {
    "duration": 11,
    "start_time": "2025-02-07T16:32:00.796Z"
   },
   {
    "duration": 103,
    "start_time": "2025-02-07T16:32:00.809Z"
   },
   {
    "duration": 105,
    "start_time": "2025-02-07T16:32:00.914Z"
   },
   {
    "duration": 37,
    "start_time": "2025-02-07T16:32:01.021Z"
   },
   {
    "duration": 594,
    "start_time": "2025-02-07T16:32:01.060Z"
   },
   {
    "duration": 0,
    "start_time": "2025-02-07T16:32:01.655Z"
   },
   {
    "duration": 0,
    "start_time": "2025-02-07T16:32:01.656Z"
   },
   {
    "duration": 0,
    "start_time": "2025-02-07T16:32:01.658Z"
   },
   {
    "duration": 0,
    "start_time": "2025-02-07T16:32:01.660Z"
   },
   {
    "duration": 0,
    "start_time": "2025-02-07T16:32:01.661Z"
   },
   {
    "duration": 0,
    "start_time": "2025-02-07T16:32:01.662Z"
   },
   {
    "duration": 0,
    "start_time": "2025-02-07T16:32:01.664Z"
   },
   {
    "duration": 0,
    "start_time": "2025-02-07T16:32:01.666Z"
   },
   {
    "duration": 0,
    "start_time": "2025-02-07T16:32:01.667Z"
   },
   {
    "duration": 114,
    "start_time": "2025-02-07T16:38:16.602Z"
   },
   {
    "duration": 5,
    "start_time": "2025-02-07T16:41:39.686Z"
   },
   {
    "duration": 1321,
    "start_time": "2025-02-07T16:41:44.501Z"
   },
   {
    "duration": 4,
    "start_time": "2025-02-07T16:41:49.461Z"
   },
   {
    "duration": 51,
    "start_time": "2025-02-07T16:41:53.113Z"
   },
   {
    "duration": 334,
    "start_time": "2025-02-07T16:41:54.159Z"
   },
   {
    "duration": 38,
    "start_time": "2025-02-07T16:41:56.637Z"
   },
   {
    "duration": 38,
    "start_time": "2025-02-07T16:41:57.582Z"
   },
   {
    "duration": 390,
    "start_time": "2025-02-07T16:42:00.132Z"
   },
   {
    "duration": 391,
    "start_time": "2025-02-07T16:42:01.938Z"
   },
   {
    "duration": 105,
    "start_time": "2025-02-07T16:43:29.779Z"
   },
   {
    "duration": 307,
    "start_time": "2025-02-07T16:43:34.482Z"
   },
   {
    "duration": 122,
    "start_time": "2025-02-07T16:43:49.976Z"
   },
   {
    "duration": 4,
    "start_time": "2025-02-07T16:44:05.279Z"
   },
   {
    "duration": 116,
    "start_time": "2025-02-07T16:48:07.564Z"
   },
   {
    "duration": 5,
    "start_time": "2025-02-07T16:49:47.851Z"
   },
   {
    "duration": 160,
    "start_time": "2025-02-08T01:04:46.658Z"
   },
   {
    "duration": 2689,
    "start_time": "2025-02-08T01:05:00.463Z"
   },
   {
    "duration": 240,
    "start_time": "2025-02-08T01:05:03.154Z"
   },
   {
    "duration": 17,
    "start_time": "2025-02-08T01:05:03.396Z"
   },
   {
    "duration": 15,
    "start_time": "2025-02-08T01:05:03.415Z"
   },
   {
    "duration": 13,
    "start_time": "2025-02-08T01:05:03.432Z"
   },
   {
    "duration": 13,
    "start_time": "2025-02-08T01:05:03.448Z"
   },
   {
    "duration": 8,
    "start_time": "2025-02-08T01:05:03.463Z"
   },
   {
    "duration": 9,
    "start_time": "2025-02-08T01:05:03.473Z"
   },
   {
    "duration": 6,
    "start_time": "2025-02-08T01:05:03.483Z"
   },
   {
    "duration": 5,
    "start_time": "2025-02-08T01:05:03.491Z"
   },
   {
    "duration": 9,
    "start_time": "2025-02-08T01:05:03.532Z"
   },
   {
    "duration": 7,
    "start_time": "2025-02-08T01:05:03.542Z"
   },
   {
    "duration": 5,
    "start_time": "2025-02-08T01:05:03.550Z"
   },
   {
    "duration": 15,
    "start_time": "2025-02-08T01:05:03.558Z"
   },
   {
    "duration": 6,
    "start_time": "2025-02-08T01:05:03.575Z"
   },
   {
    "duration": 50,
    "start_time": "2025-02-08T01:05:03.582Z"
   },
   {
    "duration": 13,
    "start_time": "2025-02-08T01:05:03.633Z"
   },
   {
    "duration": 5,
    "start_time": "2025-02-08T01:05:03.647Z"
   },
   {
    "duration": 11,
    "start_time": "2025-02-08T01:05:03.653Z"
   },
   {
    "duration": 14,
    "start_time": "2025-02-08T01:05:03.666Z"
   },
   {
    "duration": 5,
    "start_time": "2025-02-08T01:05:03.682Z"
   },
   {
    "duration": 50,
    "start_time": "2025-02-08T01:05:03.688Z"
   },
   {
    "duration": 5,
    "start_time": "2025-02-08T01:05:03.740Z"
   },
   {
    "duration": 19,
    "start_time": "2025-02-08T01:05:07.094Z"
   },
   {
    "duration": 181,
    "start_time": "2025-02-08T01:05:09.273Z"
   },
   {
    "duration": 14,
    "start_time": "2025-02-08T01:05:35.130Z"
   },
   {
    "duration": 17,
    "start_time": "2025-02-08T01:07:54.609Z"
   },
   {
    "duration": 16,
    "start_time": "2025-02-08T01:09:43.887Z"
   },
   {
    "duration": 3,
    "start_time": "2025-02-08T01:09:52.960Z"
   },
   {
    "duration": 3,
    "start_time": "2025-02-08T01:09:54.009Z"
   },
   {
    "duration": 3,
    "start_time": "2025-02-08T01:09:54.787Z"
   },
   {
    "duration": 3,
    "start_time": "2025-02-08T01:09:55.467Z"
   },
   {
    "duration": 26,
    "start_time": "2025-02-08T01:09:57.172Z"
   },
   {
    "duration": 18,
    "start_time": "2025-02-08T01:12:57.096Z"
   },
   {
    "duration": 23,
    "start_time": "2025-02-08T01:13:07.647Z"
   },
   {
    "duration": 15,
    "start_time": "2025-02-08T01:13:09.697Z"
   },
   {
    "duration": 23,
    "start_time": "2025-02-08T01:13:14.702Z"
   },
   {
    "duration": 14,
    "start_time": "2025-02-08T01:13:28.172Z"
   },
   {
    "duration": 3,
    "start_time": "2025-02-08T01:16:17.771Z"
   },
   {
    "duration": 10,
    "start_time": "2025-02-08T01:17:20.895Z"
   },
   {
    "duration": 13,
    "start_time": "2025-02-08T01:17:57.114Z"
   },
   {
    "duration": 3,
    "start_time": "2025-02-08T01:18:11.155Z"
   },
   {
    "duration": 9,
    "start_time": "2025-02-08T01:18:42.624Z"
   },
   {
    "duration": 3,
    "start_time": "2025-02-08T01:18:43.800Z"
   },
   {
    "duration": 8,
    "start_time": "2025-02-08T01:18:44.703Z"
   },
   {
    "duration": 466,
    "start_time": "2025-02-08T01:21:57.959Z"
   },
   {
    "duration": 13,
    "start_time": "2025-02-08T01:22:09.200Z"
   },
   {
    "duration": 46,
    "start_time": "2025-02-08T01:28:49.348Z"
   },
   {
    "duration": 3,
    "start_time": "2025-02-08T01:29:41.482Z"
   },
   {
    "duration": 172,
    "start_time": "2025-02-08T01:29:41.487Z"
   },
   {
    "duration": 17,
    "start_time": "2025-02-08T01:29:41.661Z"
   },
   {
    "duration": 14,
    "start_time": "2025-02-08T01:29:41.680Z"
   },
   {
    "duration": 35,
    "start_time": "2025-02-08T01:29:41.697Z"
   },
   {
    "duration": 10,
    "start_time": "2025-02-08T01:29:41.734Z"
   },
   {
    "duration": 9,
    "start_time": "2025-02-08T01:29:41.746Z"
   },
   {
    "duration": 8,
    "start_time": "2025-02-08T01:29:41.757Z"
   },
   {
    "duration": 5,
    "start_time": "2025-02-08T01:29:41.767Z"
   },
   {
    "duration": 5,
    "start_time": "2025-02-08T01:29:41.775Z"
   },
   {
    "duration": 8,
    "start_time": "2025-02-08T01:29:41.784Z"
   },
   {
    "duration": 43,
    "start_time": "2025-02-08T01:29:41.793Z"
   },
   {
    "duration": 4,
    "start_time": "2025-02-08T01:29:41.838Z"
   },
   {
    "duration": 16,
    "start_time": "2025-02-08T01:29:41.843Z"
   },
   {
    "duration": 4,
    "start_time": "2025-02-08T01:29:41.861Z"
   },
   {
    "duration": 16,
    "start_time": "2025-02-08T01:29:41.867Z"
   },
   {
    "duration": 50,
    "start_time": "2025-02-08T01:29:41.886Z"
   },
   {
    "duration": 6,
    "start_time": "2025-02-08T01:29:41.938Z"
   },
   {
    "duration": 25,
    "start_time": "2025-02-08T01:29:41.945Z"
   },
   {
    "duration": 16,
    "start_time": "2025-02-08T01:29:41.972Z"
   },
   {
    "duration": 4,
    "start_time": "2025-02-08T01:29:41.990Z"
   },
   {
    "duration": 34,
    "start_time": "2025-02-08T01:29:41.997Z"
   },
   {
    "duration": 5,
    "start_time": "2025-02-08T01:29:42.033Z"
   },
   {
    "duration": 15,
    "start_time": "2025-02-08T01:29:42.040Z"
   },
   {
    "duration": 11,
    "start_time": "2025-02-08T01:29:42.057Z"
   },
   {
    "duration": 13,
    "start_time": "2025-02-08T01:29:42.070Z"
   },
   {
    "duration": 13,
    "start_time": "2025-02-08T01:29:42.084Z"
   },
   {
    "duration": 6,
    "start_time": "2025-02-08T01:29:42.131Z"
   },
   {
    "duration": 3,
    "start_time": "2025-02-08T01:29:42.141Z"
   },
   {
    "duration": 4,
    "start_time": "2025-02-08T01:29:42.148Z"
   },
   {
    "duration": 2,
    "start_time": "2025-02-08T01:29:42.154Z"
   },
   {
    "duration": 4,
    "start_time": "2025-02-08T01:29:42.158Z"
   },
   {
    "duration": 14,
    "start_time": "2025-02-08T01:29:42.164Z"
   },
   {
    "duration": 8,
    "start_time": "2025-02-08T01:29:42.180Z"
   },
   {
    "duration": 47,
    "start_time": "2025-02-08T01:29:42.189Z"
   },
   {
    "duration": 3,
    "start_time": "2025-02-08T01:29:42.238Z"
   },
   {
    "duration": 6,
    "start_time": "2025-02-08T01:29:42.243Z"
   },
   {
    "duration": 8,
    "start_time": "2025-02-08T01:29:47.648Z"
   },
   {
    "duration": 15,
    "start_time": "2025-02-08T01:31:02.114Z"
   },
   {
    "duration": 6,
    "start_time": "2025-02-08T01:31:14.819Z"
   },
   {
    "duration": 125,
    "start_time": "2025-02-08T01:31:16.149Z"
   },
   {
    "duration": 10,
    "start_time": "2025-02-08T01:31:24.999Z"
   },
   {
    "duration": 214,
    "start_time": "2025-02-08T01:32:40.629Z"
   },
   {
    "duration": 7,
    "start_time": "2025-02-08T01:33:30.562Z"
   },
   {
    "duration": 624,
    "start_time": "2025-02-08T01:34:10.676Z"
   },
   {
    "duration": 16,
    "start_time": "2025-02-08T01:38:48.957Z"
   },
   {
    "duration": 7,
    "start_time": "2025-02-08T01:40:05.318Z"
   },
   {
    "duration": 14,
    "start_time": "2025-02-08T01:59:38.796Z"
   },
   {
    "duration": 149,
    "start_time": "2025-02-08T02:00:28.295Z"
   },
   {
    "duration": 141,
    "start_time": "2025-02-08T02:00:40.268Z"
   },
   {
    "duration": 156,
    "start_time": "2025-02-08T02:00:51.823Z"
   },
   {
    "duration": 14,
    "start_time": "2025-02-08T02:02:52.535Z"
   },
   {
    "duration": 144,
    "start_time": "2025-02-08T02:04:55.967Z"
   },
   {
    "duration": 178,
    "start_time": "2025-02-08T02:06:07.499Z"
   },
   {
    "duration": 7,
    "start_time": "2025-02-08T02:07:15.283Z"
   },
   {
    "duration": 10,
    "start_time": "2025-02-08T02:09:14.338Z"
   },
   {
    "duration": 7,
    "start_time": "2025-02-08T02:09:26.072Z"
   },
   {
    "duration": 5,
    "start_time": "2025-02-08T02:11:05.975Z"
   },
   {
    "duration": 6,
    "start_time": "2025-02-08T02:11:07.447Z"
   },
   {
    "duration": 14,
    "start_time": "2025-02-08T02:12:15.005Z"
   },
   {
    "duration": 149,
    "start_time": "2025-02-08T02:12:41.757Z"
   },
   {
    "duration": 145,
    "start_time": "2025-02-08T02:13:09.827Z"
   },
   {
    "duration": 145,
    "start_time": "2025-02-08T02:13:29.289Z"
   },
   {
    "duration": 81,
    "start_time": "2025-02-08T02:13:48.536Z"
   },
   {
    "duration": 184,
    "start_time": "2025-02-08T02:14:03.362Z"
   },
   {
    "duration": 33,
    "start_time": "2025-02-08T02:14:21.945Z"
   },
   {
    "duration": 5,
    "start_time": "2025-02-08T02:14:31.670Z"
   },
   {
    "duration": 301,
    "start_time": "2025-02-08T02:14:42.762Z"
   },
   {
    "duration": 111,
    "start_time": "2025-02-08T02:14:52.712Z"
   },
   {
    "duration": 7,
    "start_time": "2025-02-08T02:15:01.484Z"
   },
   {
    "duration": 22,
    "start_time": "2025-02-08T02:15:07.801Z"
   },
   {
    "duration": 6,
    "start_time": "2025-02-08T02:15:26.937Z"
   },
   {
    "duration": 41,
    "start_time": "2025-02-08T02:15:36.067Z"
   },
   {
    "duration": 116,
    "start_time": "2025-02-08T02:15:48.994Z"
   },
   {
    "duration": 96,
    "start_time": "2025-02-08T02:15:58.651Z"
   },
   {
    "duration": 7,
    "start_time": "2025-02-08T02:16:24.299Z"
   },
   {
    "duration": 12,
    "start_time": "2025-02-08T02:19:27.249Z"
   },
   {
    "duration": 7,
    "start_time": "2025-02-08T02:19:30.003Z"
   },
   {
    "duration": 11,
    "start_time": "2025-02-08T02:20:08.084Z"
   },
   {
    "duration": 6,
    "start_time": "2025-02-08T02:20:10.905Z"
   },
   {
    "duration": 10,
    "start_time": "2025-02-08T02:20:53.838Z"
   },
   {
    "duration": 7,
    "start_time": "2025-02-08T02:20:54.285Z"
   },
   {
    "duration": 4,
    "start_time": "2025-02-08T02:21:10.436Z"
   },
   {
    "duration": 4,
    "start_time": "2025-02-08T02:21:11.059Z"
   },
   {
    "duration": 3,
    "start_time": "2025-02-08T02:21:11.199Z"
   },
   {
    "duration": 3,
    "start_time": "2025-02-08T02:21:11.371Z"
   },
   {
    "duration": 4,
    "start_time": "2025-02-08T02:21:11.529Z"
   },
   {
    "duration": 13,
    "start_time": "2025-02-08T02:21:11.699Z"
   },
   {
    "duration": 8,
    "start_time": "2025-02-08T02:21:11.858Z"
   },
   {
    "duration": 10,
    "start_time": "2025-02-08T02:21:12.279Z"
   },
   {
    "duration": 3,
    "start_time": "2025-02-08T02:21:12.517Z"
   },
   {
    "duration": 6,
    "start_time": "2025-02-08T02:21:12.731Z"
   },
   {
    "duration": 9,
    "start_time": "2025-02-08T02:21:13.138Z"
   },
   {
    "duration": 6,
    "start_time": "2025-02-08T02:21:13.375Z"
   },
   {
    "duration": 8,
    "start_time": "2025-02-08T02:21:13.698Z"
   },
   {
    "duration": 15,
    "start_time": "2025-02-08T02:21:14.224Z"
   },
   {
    "duration": 146,
    "start_time": "2025-02-08T02:21:15.208Z"
   },
   {
    "duration": 142,
    "start_time": "2025-02-08T02:21:15.440Z"
   },
   {
    "duration": 196,
    "start_time": "2025-02-08T02:21:15.970Z"
   },
   {
    "duration": 6,
    "start_time": "2025-02-08T02:21:16.983Z"
   },
   {
    "duration": 107,
    "start_time": "2025-02-08T02:21:17.378Z"
   },
   {
    "duration": 6,
    "start_time": "2025-02-08T02:21:18.404Z"
   },
   {
    "duration": 6,
    "start_time": "2025-02-08T02:21:18.738Z"
   },
   {
    "duration": 108,
    "start_time": "2025-02-08T02:21:19.832Z"
   },
   {
    "duration": 98,
    "start_time": "2025-02-08T02:21:20.967Z"
   },
   {
    "duration": 6,
    "start_time": "2025-02-08T02:21:48.540Z"
   },
   {
    "duration": 97,
    "start_time": "2025-02-08T02:22:47.321Z"
   },
   {
    "duration": 6,
    "start_time": "2025-02-08T17:14:26.845Z"
   },
   {
    "duration": 3,
    "start_time": "2025-02-08T17:14:50.602Z"
   }
  ],
  "colab": {
   "provenance": []
  },
  "kernelspec": {
   "display_name": "Python 3 (ipykernel)",
   "language": "python",
   "name": "python3"
  },
  "language_info": {
   "codemirror_mode": {
    "name": "ipython",
    "version": 3
   },
   "file_extension": ".py",
   "mimetype": "text/x-python",
   "name": "python",
   "nbconvert_exporter": "python",
   "pygments_lexer": "ipython3",
   "version": "3.9.19"
  },
  "toc": {
   "base_numbering": 1,
   "nav_menu": {},
   "number_sections": true,
   "sideBar": true,
   "skip_h1_title": false,
   "title_cell": "Table of Contents",
   "title_sidebar": "Contents",
   "toc_cell": false,
   "toc_position": {},
   "toc_section_display": true,
   "toc_window_display": false
  }
 },
 "nbformat": 4,
 "nbformat_minor": 1
}
